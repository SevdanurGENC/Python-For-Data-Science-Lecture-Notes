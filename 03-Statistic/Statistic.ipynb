{
  "cells": [
    {
      "cell_type": "markdown",
      "metadata": {
        "id": "7KaajwArByFW"
      },
      "source": [
        "# **Veri Bilimi İçin İstatistik**\n",
        "## Örnek Teorisi!"
      ]
    },
    {
      "cell_type": "markdown",
      "metadata": {
        "id": "VkRSVbXMByFX"
      },
      "source": [
        "Varsayalım ki bir ilçedeki kişilerin yaşlarına ilişkin bir çıkarımda bulunmak istiyoruz.  \n",
        "Bu ilçedeki kişilerin yaş ortalamasını merak ediyoruz.  \n",
        "Ama bu ilçede 10.000 kişi yaşıyor ve her birisiyle tek tek görüşmek çok da mümkün değil.  \n",
        "Bu sebeple 10.000 kişinin hepsiyle görüşmek yerine bunun içerisinden 100 kişilik  \n",
        "bir örneklem çekip, bu 100 kişinin yaş ortalamasını inceleyip, bu ilçenin yaş ortalamasının  \n",
        "kaç olabileceğini tahmin etmek istiyoruz."
      ]
    },
    {
      "cell_type": "code",
      "execution_count": 1,
      "metadata": {
        "id": "99d0GJ3yByFX"
      },
      "outputs": [],
      "source": [
        "import numpy as np"
      ]
    },
    {
      "cell_type": "code",
      "execution_count": 3,
      "metadata": {
        "id": "RDb9znc-ByFa"
      },
      "outputs": [],
      "source": [
        "populasyon = np.random.randint(0, 80, 10000)\n",
        "#0-80 yas araliginda 10.000 kisi"
      ]
    },
    {
      "cell_type": "code",
      "execution_count": 4,
      "metadata": {
        "colab": {
          "base_uri": "https://localhost:8080/"
        },
        "id": "0uyZMD3wByFd",
        "outputId": "2908262e-4e03-4d05-8b6b-b1378f217122"
      },
      "outputs": [
        {
          "output_type": "execute_result",
          "data": {
            "text/plain": [
              "array([62, 58, 55, 79, 14, 32, 55, 47, 75, 18])"
            ]
          },
          "metadata": {},
          "execution_count": 4
        }
      ],
      "source": [
        "populasyon[:10] # ilk 10 kisinin yasi"
      ]
    },
    {
      "cell_type": "markdown",
      "metadata": {
        "id": "J9WkUOZPByFh"
      },
      "source": [
        "#### Örneklem Çekimi"
      ]
    },
    {
      "cell_type": "markdown",
      "metadata": {
        "id": "JCbfz-R3ByFi"
      },
      "source": [
        "Öncelikle **seed** ayarı yapmamız lazım.  \n",
        "**seed** ayarı ne demek?  \n",
        "Yapılacak olan işlemlerin her tekrar edildiğinde aynı sonuçların getirilmesini  \n",
        "garanti altına alan bir işlem.  \n",
        "random.seed()'i eklemezsek, fonksiyonu her çalıştırdığımda farklı örneklemler çekmiş olacak."
      ]
    },
    {
      "cell_type": "code",
      "execution_count": 5,
      "metadata": {
        "colab": {
          "base_uri": "https://localhost:8080/"
        },
        "id": "874A5ksLByFi",
        "outputId": "941da5bf-5d44-46d0-abeb-f73f44834f39"
      },
      "outputs": [
        {
          "output_type": "execute_result",
          "data": {
            "text/plain": [
              "array([36, 40, 46, 48, 64,  2, 22, 30, 64, 50, 72, 15, 12, 56, 55, 13, 31,\n",
              "       63, 67, 60, 10, 15, 21, 69, 56, 52, 23,  1,  0, 68, 19, 49, 33, 51,\n",
              "       51, 78, 65, 39, 51, 58, 29, 74, 74,  0, 15, 33,  3, 47, 72, 70, 58,\n",
              "       42, 79, 66, 10, 14, 27,  6, 60, 40, 34, 71, 24, 76, 73, 40, 74, 27,\n",
              "       57, 72, 42, 47, 32, 71, 10, 43, 48,  1, 57, 79,  4, 55, 25, 35, 25,\n",
              "        0, 73, 32, 45, 69, 14, 54, 36, 26, 42, 33, 16, 22, 60, 16])"
            ]
          },
          "metadata": {},
          "execution_count": 5
        }
      ],
      "source": [
        "np.random.seed(115) #herhangi bir sayi verebilirsiniz.\n",
        "\n",
        "orneklem = np.random.choice(a = populasyon, size=100)\n",
        "#populasyon icerisinden 100 tane ornek cekme islemi.\n",
        "\n",
        "orneklem"
      ]
    },
    {
      "cell_type": "markdown",
      "metadata": {
        "id": "MxqQVP7LByFl"
      },
      "source": [
        "Ana kitlemiz olan populasyon'da 10.000 gözlem vardı.  \n",
        "Rastgele 100 gözlem çekerek örneklem oluşturduk."
      ]
    },
    {
      "cell_type": "code",
      "execution_count": 6,
      "metadata": {
        "colab": {
          "base_uri": "https://localhost:8080/"
        },
        "id": "iZIOoK2BByFl",
        "outputId": "ca585612-51a4-4720-b815-6babcc2534af"
      },
      "outputs": [
        {
          "output_type": "execute_result",
          "data": {
            "text/plain": [
              "41.34"
            ]
          },
          "metadata": {},
          "execution_count": 6
        }
      ],
      "source": [
        "orneklem.mean()"
      ]
    },
    {
      "cell_type": "code",
      "execution_count": 7,
      "metadata": {
        "colab": {
          "base_uri": "https://localhost:8080/"
        },
        "id": "CYNQPB3-ByFo",
        "outputId": "be5ad628-00c2-4200-d8a7-50f0f1064e13"
      },
      "outputs": [
        {
          "output_type": "execute_result",
          "data": {
            "text/plain": [
              "39.6899"
            ]
          },
          "metadata": {},
          "execution_count": 7
        }
      ],
      "source": [
        "populasyon.mean()"
      ]
    },
    {
      "cell_type": "markdown",
      "metadata": {
        "id": "LYdtDP39ByFr"
      },
      "source": [
        "Örneklemin gücü burada çok açık bir şekilde dikkatimizi çekiyor."
      ]
    },
    {
      "cell_type": "markdown",
      "metadata": {
        "id": "4vB4k24UByFs"
      },
      "source": [
        "#### Örneklem Dağılımı"
      ]
    },
    {
      "cell_type": "code",
      "execution_count": 8,
      "metadata": {
        "id": "9OXWVOGnByFt"
      },
      "outputs": [],
      "source": [
        "np.random.seed(10)\n",
        "orneklem1 = np.random.choice(a = populasyon, size = 100)\n",
        "orneklem2 = np.random.choice(a = populasyon, size = 100)\n",
        "orneklem3 = np.random.choice(a = populasyon, size = 100)\n",
        "orneklem4 = np.random.choice(a = populasyon, size = 100)\n",
        "orneklem5 = np.random.choice(a = populasyon, size = 100)\n",
        "orneklem6 = np.random.choice(a = populasyon, size = 100)\n",
        "orneklem7 = np.random.choice(a = populasyon, size = 100)\n",
        "orneklem8 = np.random.choice(a = populasyon, size = 100)\n",
        "orneklem9 = np.random.choice(a = populasyon, size = 100)\n",
        "orneklem10 = np.random.choice(a = populasyon, size = 100)"
      ]
    },
    {
      "cell_type": "markdown",
      "metadata": {
        "id": "-EVgvhXOByFv"
      },
      "source": [
        "Birbirinden farklı 10 tane örneklem çekmiş olduk."
      ]
    },
    {
      "cell_type": "markdown",
      "metadata": {
        "id": "Mc_F29tUByFv"
      },
      "source": [
        "Örneklemlerin ortalamalarının, ortalamasını alıyoruz."
      ]
    },
    {
      "cell_type": "code",
      "execution_count": 9,
      "metadata": {
        "colab": {
          "base_uri": "https://localhost:8080/"
        },
        "id": "-cWpsrLYByFw",
        "outputId": "ec75da3c-b8ec-4fa8-a0bf-a97388315103"
      },
      "outputs": [
        {
          "output_type": "execute_result",
          "data": {
            "text/plain": [
              "39.996"
            ]
          },
          "metadata": {},
          "execution_count": 9
        }
      ],
      "source": [
        "(orneklem1.mean() + orneklem2.mean() + orneklem3.mean() + orneklem4.mean() + orneklem5.mean() \n",
        "+ orneklem6.mean() + orneklem7.mean() + orneklem8.mean() + orneklem9.mean() + orneklem10.mean() )  / 10"
      ]
    },
    {
      "cell_type": "markdown",
      "metadata": {
        "id": "OOirv4THByFy"
      },
      "source": [
        "Normal şartlarda, daha fazla örneklem çekildiğinde, örneklemlerin ortalamasının ana kitle ortalamasına daha yakın olmasını bekleriz."
      ]
    },
    {
      "cell_type": "markdown",
      "metadata": {
        "id": "8eBV1vaMByFy"
      },
      "source": [
        "Merkezi limit teoremi aracılığı ile ana kitle ortalamasına gitmiş oluyoruz."
      ]
    },
    {
      "cell_type": "markdown",
      "metadata": {
        "id": "Z0CqOtd7ByFz"
      },
      "source": [
        "## Betimsel İstatistikler"
      ]
    },
    {
      "cell_type": "markdown",
      "metadata": {
        "id": "8uvYvt59ByFz"
      },
      "source": [
        "Örneklerimizde Tips datasetini kullanacağız."
      ]
    },
    {
      "cell_type": "code",
      "execution_count": 10,
      "metadata": {
        "colab": {
          "base_uri": "https://localhost:8080/",
          "height": 206
        },
        "id": "dpMNli6UByFz",
        "outputId": "0b7bf491-d9d4-498d-9d2f-53464c53db55"
      },
      "outputs": [
        {
          "output_type": "execute_result",
          "data": {
            "text/plain": [
              "   total_bill   tip     sex smoker  day    time  size\n",
              "0       16.99  1.01  Female     No  Sun  Dinner     2\n",
              "1       10.34  1.66    Male     No  Sun  Dinner     3\n",
              "2       21.01  3.50    Male     No  Sun  Dinner     3\n",
              "3       23.68  3.31    Male     No  Sun  Dinner     2\n",
              "4       24.59  3.61  Female     No  Sun  Dinner     4"
            ],
            "text/html": [
              "\n",
              "  <div id=\"df-ca5bfcf7-ef83-4f1a-aa0b-826727a5747a\">\n",
              "    <div class=\"colab-df-container\">\n",
              "      <div>\n",
              "<style scoped>\n",
              "    .dataframe tbody tr th:only-of-type {\n",
              "        vertical-align: middle;\n",
              "    }\n",
              "\n",
              "    .dataframe tbody tr th {\n",
              "        vertical-align: top;\n",
              "    }\n",
              "\n",
              "    .dataframe thead th {\n",
              "        text-align: right;\n",
              "    }\n",
              "</style>\n",
              "<table border=\"1\" class=\"dataframe\">\n",
              "  <thead>\n",
              "    <tr style=\"text-align: right;\">\n",
              "      <th></th>\n",
              "      <th>total_bill</th>\n",
              "      <th>tip</th>\n",
              "      <th>sex</th>\n",
              "      <th>smoker</th>\n",
              "      <th>day</th>\n",
              "      <th>time</th>\n",
              "      <th>size</th>\n",
              "    </tr>\n",
              "  </thead>\n",
              "  <tbody>\n",
              "    <tr>\n",
              "      <th>0</th>\n",
              "      <td>16.99</td>\n",
              "      <td>1.01</td>\n",
              "      <td>Female</td>\n",
              "      <td>No</td>\n",
              "      <td>Sun</td>\n",
              "      <td>Dinner</td>\n",
              "      <td>2</td>\n",
              "    </tr>\n",
              "    <tr>\n",
              "      <th>1</th>\n",
              "      <td>10.34</td>\n",
              "      <td>1.66</td>\n",
              "      <td>Male</td>\n",
              "      <td>No</td>\n",
              "      <td>Sun</td>\n",
              "      <td>Dinner</td>\n",
              "      <td>3</td>\n",
              "    </tr>\n",
              "    <tr>\n",
              "      <th>2</th>\n",
              "      <td>21.01</td>\n",
              "      <td>3.50</td>\n",
              "      <td>Male</td>\n",
              "      <td>No</td>\n",
              "      <td>Sun</td>\n",
              "      <td>Dinner</td>\n",
              "      <td>3</td>\n",
              "    </tr>\n",
              "    <tr>\n",
              "      <th>3</th>\n",
              "      <td>23.68</td>\n",
              "      <td>3.31</td>\n",
              "      <td>Male</td>\n",
              "      <td>No</td>\n",
              "      <td>Sun</td>\n",
              "      <td>Dinner</td>\n",
              "      <td>2</td>\n",
              "    </tr>\n",
              "    <tr>\n",
              "      <th>4</th>\n",
              "      <td>24.59</td>\n",
              "      <td>3.61</td>\n",
              "      <td>Female</td>\n",
              "      <td>No</td>\n",
              "      <td>Sun</td>\n",
              "      <td>Dinner</td>\n",
              "      <td>4</td>\n",
              "    </tr>\n",
              "  </tbody>\n",
              "</table>\n",
              "</div>\n",
              "      <button class=\"colab-df-convert\" onclick=\"convertToInteractive('df-ca5bfcf7-ef83-4f1a-aa0b-826727a5747a')\"\n",
              "              title=\"Convert this dataframe to an interactive table.\"\n",
              "              style=\"display:none;\">\n",
              "        \n",
              "  <svg xmlns=\"http://www.w3.org/2000/svg\" height=\"24px\"viewBox=\"0 0 24 24\"\n",
              "       width=\"24px\">\n",
              "    <path d=\"M0 0h24v24H0V0z\" fill=\"none\"/>\n",
              "    <path d=\"M18.56 5.44l.94 2.06.94-2.06 2.06-.94-2.06-.94-.94-2.06-.94 2.06-2.06.94zm-11 1L8.5 8.5l.94-2.06 2.06-.94-2.06-.94L8.5 2.5l-.94 2.06-2.06.94zm10 10l.94 2.06.94-2.06 2.06-.94-2.06-.94-.94-2.06-.94 2.06-2.06.94z\"/><path d=\"M17.41 7.96l-1.37-1.37c-.4-.4-.92-.59-1.43-.59-.52 0-1.04.2-1.43.59L10.3 9.45l-7.72 7.72c-.78.78-.78 2.05 0 2.83L4 21.41c.39.39.9.59 1.41.59.51 0 1.02-.2 1.41-.59l7.78-7.78 2.81-2.81c.8-.78.8-2.07 0-2.86zM5.41 20L4 18.59l7.72-7.72 1.47 1.35L5.41 20z\"/>\n",
              "  </svg>\n",
              "      </button>\n",
              "      \n",
              "  <style>\n",
              "    .colab-df-container {\n",
              "      display:flex;\n",
              "      flex-wrap:wrap;\n",
              "      gap: 12px;\n",
              "    }\n",
              "\n",
              "    .colab-df-convert {\n",
              "      background-color: #E8F0FE;\n",
              "      border: none;\n",
              "      border-radius: 50%;\n",
              "      cursor: pointer;\n",
              "      display: none;\n",
              "      fill: #1967D2;\n",
              "      height: 32px;\n",
              "      padding: 0 0 0 0;\n",
              "      width: 32px;\n",
              "    }\n",
              "\n",
              "    .colab-df-convert:hover {\n",
              "      background-color: #E2EBFA;\n",
              "      box-shadow: 0px 1px 2px rgba(60, 64, 67, 0.3), 0px 1px 3px 1px rgba(60, 64, 67, 0.15);\n",
              "      fill: #174EA6;\n",
              "    }\n",
              "\n",
              "    [theme=dark] .colab-df-convert {\n",
              "      background-color: #3B4455;\n",
              "      fill: #D2E3FC;\n",
              "    }\n",
              "\n",
              "    [theme=dark] .colab-df-convert:hover {\n",
              "      background-color: #434B5C;\n",
              "      box-shadow: 0px 1px 3px 1px rgba(0, 0, 0, 0.15);\n",
              "      filter: drop-shadow(0px 1px 2px rgba(0, 0, 0, 0.3));\n",
              "      fill: #FFFFFF;\n",
              "    }\n",
              "  </style>\n",
              "\n",
              "      <script>\n",
              "        const buttonEl =\n",
              "          document.querySelector('#df-ca5bfcf7-ef83-4f1a-aa0b-826727a5747a button.colab-df-convert');\n",
              "        buttonEl.style.display =\n",
              "          google.colab.kernel.accessAllowed ? 'block' : 'none';\n",
              "\n",
              "        async function convertToInteractive(key) {\n",
              "          const element = document.querySelector('#df-ca5bfcf7-ef83-4f1a-aa0b-826727a5747a');\n",
              "          const dataTable =\n",
              "            await google.colab.kernel.invokeFunction('convertToInteractive',\n",
              "                                                     [key], {});\n",
              "          if (!dataTable) return;\n",
              "\n",
              "          const docLinkHtml = 'Like what you see? Visit the ' +\n",
              "            '<a target=\"_blank\" href=https://colab.research.google.com/notebooks/data_table.ipynb>data table notebook</a>'\n",
              "            + ' to learn more about interactive tables.';\n",
              "          element.innerHTML = '';\n",
              "          dataTable['output_type'] = 'display_data';\n",
              "          await google.colab.output.renderOutput(dataTable, element);\n",
              "          const docLink = document.createElement('div');\n",
              "          docLink.innerHTML = docLinkHtml;\n",
              "          element.appendChild(docLink);\n",
              "        }\n",
              "      </script>\n",
              "    </div>\n",
              "  </div>\n",
              "  "
            ]
          },
          "metadata": {},
          "execution_count": 10
        }
      ],
      "source": [
        "#tips datasetini kullanacagiz.\n",
        "import seaborn as sns\n",
        "tips = sns.load_dataset(\"tips\")\n",
        "df = tips.copy()\n",
        "df.head()"
      ]
    },
    {
      "cell_type": "code",
      "execution_count": 11,
      "metadata": {
        "colab": {
          "base_uri": "https://localhost:8080/",
          "height": 342
        },
        "id": "dyB63ZUsByF1",
        "outputId": "fc2f1d2f-1fae-4e82-be6f-4e8c8f762396"
      },
      "outputs": [
        {
          "output_type": "execute_result",
          "data": {
            "text/plain": [
              "               0       1       2       3       4       5       6       7    \\\n",
              "total_bill   16.99   10.34   21.01   23.68   24.59   25.29    8.77   26.88   \n",
              "tip           1.01    1.66     3.5    3.31    3.61    4.71     2.0    3.12   \n",
              "sex         Female    Male    Male    Male  Female    Male    Male    Male   \n",
              "smoker          No      No      No      No      No      No      No      No   \n",
              "day            Sun     Sun     Sun     Sun     Sun     Sun     Sun     Sun   \n",
              "time        Dinner  Dinner  Dinner  Dinner  Dinner  Dinner  Dinner  Dinner   \n",
              "size             2       3       3       2       4       4       2       4   \n",
              "\n",
              "               8       9    ...     234     235     236     237     238  \\\n",
              "total_bill   15.04   14.78  ...   15.53   10.07    12.6   32.83   35.83   \n",
              "tip           1.96    3.23  ...     3.0    1.25     1.0    1.17    4.67   \n",
              "sex           Male    Male  ...    Male    Male    Male    Male  Female   \n",
              "smoker          No      No  ...     Yes      No     Yes     Yes      No   \n",
              "day            Sun     Sun  ...     Sat     Sat     Sat     Sat     Sat   \n",
              "time        Dinner  Dinner  ...  Dinner  Dinner  Dinner  Dinner  Dinner   \n",
              "size             2       2  ...       2       2       2       2       3   \n",
              "\n",
              "               239     240     241     242     243  \n",
              "total_bill   29.03   27.18   22.67   17.82   18.78  \n",
              "tip           5.92     2.0     2.0    1.75     3.0  \n",
              "sex           Male  Female    Male    Male  Female  \n",
              "smoker          No     Yes     Yes      No      No  \n",
              "day            Sat     Sat     Sat     Sat    Thur  \n",
              "time        Dinner  Dinner  Dinner  Dinner  Dinner  \n",
              "size             3       2       2       2       2  \n",
              "\n",
              "[7 rows x 244 columns]"
            ],
            "text/html": [
              "\n",
              "  <div id=\"df-05614abd-e735-4dc5-bd76-3e63c31a2a46\">\n",
              "    <div class=\"colab-df-container\">\n",
              "      <div>\n",
              "<style scoped>\n",
              "    .dataframe tbody tr th:only-of-type {\n",
              "        vertical-align: middle;\n",
              "    }\n",
              "\n",
              "    .dataframe tbody tr th {\n",
              "        vertical-align: top;\n",
              "    }\n",
              "\n",
              "    .dataframe thead th {\n",
              "        text-align: right;\n",
              "    }\n",
              "</style>\n",
              "<table border=\"1\" class=\"dataframe\">\n",
              "  <thead>\n",
              "    <tr style=\"text-align: right;\">\n",
              "      <th></th>\n",
              "      <th>0</th>\n",
              "      <th>1</th>\n",
              "      <th>2</th>\n",
              "      <th>3</th>\n",
              "      <th>4</th>\n",
              "      <th>5</th>\n",
              "      <th>6</th>\n",
              "      <th>7</th>\n",
              "      <th>8</th>\n",
              "      <th>9</th>\n",
              "      <th>...</th>\n",
              "      <th>234</th>\n",
              "      <th>235</th>\n",
              "      <th>236</th>\n",
              "      <th>237</th>\n",
              "      <th>238</th>\n",
              "      <th>239</th>\n",
              "      <th>240</th>\n",
              "      <th>241</th>\n",
              "      <th>242</th>\n",
              "      <th>243</th>\n",
              "    </tr>\n",
              "  </thead>\n",
              "  <tbody>\n",
              "    <tr>\n",
              "      <th>total_bill</th>\n",
              "      <td>16.99</td>\n",
              "      <td>10.34</td>\n",
              "      <td>21.01</td>\n",
              "      <td>23.68</td>\n",
              "      <td>24.59</td>\n",
              "      <td>25.29</td>\n",
              "      <td>8.77</td>\n",
              "      <td>26.88</td>\n",
              "      <td>15.04</td>\n",
              "      <td>14.78</td>\n",
              "      <td>...</td>\n",
              "      <td>15.53</td>\n",
              "      <td>10.07</td>\n",
              "      <td>12.6</td>\n",
              "      <td>32.83</td>\n",
              "      <td>35.83</td>\n",
              "      <td>29.03</td>\n",
              "      <td>27.18</td>\n",
              "      <td>22.67</td>\n",
              "      <td>17.82</td>\n",
              "      <td>18.78</td>\n",
              "    </tr>\n",
              "    <tr>\n",
              "      <th>tip</th>\n",
              "      <td>1.01</td>\n",
              "      <td>1.66</td>\n",
              "      <td>3.5</td>\n",
              "      <td>3.31</td>\n",
              "      <td>3.61</td>\n",
              "      <td>4.71</td>\n",
              "      <td>2.0</td>\n",
              "      <td>3.12</td>\n",
              "      <td>1.96</td>\n",
              "      <td>3.23</td>\n",
              "      <td>...</td>\n",
              "      <td>3.0</td>\n",
              "      <td>1.25</td>\n",
              "      <td>1.0</td>\n",
              "      <td>1.17</td>\n",
              "      <td>4.67</td>\n",
              "      <td>5.92</td>\n",
              "      <td>2.0</td>\n",
              "      <td>2.0</td>\n",
              "      <td>1.75</td>\n",
              "      <td>3.0</td>\n",
              "    </tr>\n",
              "    <tr>\n",
              "      <th>sex</th>\n",
              "      <td>Female</td>\n",
              "      <td>Male</td>\n",
              "      <td>Male</td>\n",
              "      <td>Male</td>\n",
              "      <td>Female</td>\n",
              "      <td>Male</td>\n",
              "      <td>Male</td>\n",
              "      <td>Male</td>\n",
              "      <td>Male</td>\n",
              "      <td>Male</td>\n",
              "      <td>...</td>\n",
              "      <td>Male</td>\n",
              "      <td>Male</td>\n",
              "      <td>Male</td>\n",
              "      <td>Male</td>\n",
              "      <td>Female</td>\n",
              "      <td>Male</td>\n",
              "      <td>Female</td>\n",
              "      <td>Male</td>\n",
              "      <td>Male</td>\n",
              "      <td>Female</td>\n",
              "    </tr>\n",
              "    <tr>\n",
              "      <th>smoker</th>\n",
              "      <td>No</td>\n",
              "      <td>No</td>\n",
              "      <td>No</td>\n",
              "      <td>No</td>\n",
              "      <td>No</td>\n",
              "      <td>No</td>\n",
              "      <td>No</td>\n",
              "      <td>No</td>\n",
              "      <td>No</td>\n",
              "      <td>No</td>\n",
              "      <td>...</td>\n",
              "      <td>Yes</td>\n",
              "      <td>No</td>\n",
              "      <td>Yes</td>\n",
              "      <td>Yes</td>\n",
              "      <td>No</td>\n",
              "      <td>No</td>\n",
              "      <td>Yes</td>\n",
              "      <td>Yes</td>\n",
              "      <td>No</td>\n",
              "      <td>No</td>\n",
              "    </tr>\n",
              "    <tr>\n",
              "      <th>day</th>\n",
              "      <td>Sun</td>\n",
              "      <td>Sun</td>\n",
              "      <td>Sun</td>\n",
              "      <td>Sun</td>\n",
              "      <td>Sun</td>\n",
              "      <td>Sun</td>\n",
              "      <td>Sun</td>\n",
              "      <td>Sun</td>\n",
              "      <td>Sun</td>\n",
              "      <td>Sun</td>\n",
              "      <td>...</td>\n",
              "      <td>Sat</td>\n",
              "      <td>Sat</td>\n",
              "      <td>Sat</td>\n",
              "      <td>Sat</td>\n",
              "      <td>Sat</td>\n",
              "      <td>Sat</td>\n",
              "      <td>Sat</td>\n",
              "      <td>Sat</td>\n",
              "      <td>Sat</td>\n",
              "      <td>Thur</td>\n",
              "    </tr>\n",
              "    <tr>\n",
              "      <th>time</th>\n",
              "      <td>Dinner</td>\n",
              "      <td>Dinner</td>\n",
              "      <td>Dinner</td>\n",
              "      <td>Dinner</td>\n",
              "      <td>Dinner</td>\n",
              "      <td>Dinner</td>\n",
              "      <td>Dinner</td>\n",
              "      <td>Dinner</td>\n",
              "      <td>Dinner</td>\n",
              "      <td>Dinner</td>\n",
              "      <td>...</td>\n",
              "      <td>Dinner</td>\n",
              "      <td>Dinner</td>\n",
              "      <td>Dinner</td>\n",
              "      <td>Dinner</td>\n",
              "      <td>Dinner</td>\n",
              "      <td>Dinner</td>\n",
              "      <td>Dinner</td>\n",
              "      <td>Dinner</td>\n",
              "      <td>Dinner</td>\n",
              "      <td>Dinner</td>\n",
              "    </tr>\n",
              "    <tr>\n",
              "      <th>size</th>\n",
              "      <td>2</td>\n",
              "      <td>3</td>\n",
              "      <td>3</td>\n",
              "      <td>2</td>\n",
              "      <td>4</td>\n",
              "      <td>4</td>\n",
              "      <td>2</td>\n",
              "      <td>4</td>\n",
              "      <td>2</td>\n",
              "      <td>2</td>\n",
              "      <td>...</td>\n",
              "      <td>2</td>\n",
              "      <td>2</td>\n",
              "      <td>2</td>\n",
              "      <td>2</td>\n",
              "      <td>3</td>\n",
              "      <td>3</td>\n",
              "      <td>2</td>\n",
              "      <td>2</td>\n",
              "      <td>2</td>\n",
              "      <td>2</td>\n",
              "    </tr>\n",
              "  </tbody>\n",
              "</table>\n",
              "<p>7 rows × 244 columns</p>\n",
              "</div>\n",
              "      <button class=\"colab-df-convert\" onclick=\"convertToInteractive('df-05614abd-e735-4dc5-bd76-3e63c31a2a46')\"\n",
              "              title=\"Convert this dataframe to an interactive table.\"\n",
              "              style=\"display:none;\">\n",
              "        \n",
              "  <svg xmlns=\"http://www.w3.org/2000/svg\" height=\"24px\"viewBox=\"0 0 24 24\"\n",
              "       width=\"24px\">\n",
              "    <path d=\"M0 0h24v24H0V0z\" fill=\"none\"/>\n",
              "    <path d=\"M18.56 5.44l.94 2.06.94-2.06 2.06-.94-2.06-.94-.94-2.06-.94 2.06-2.06.94zm-11 1L8.5 8.5l.94-2.06 2.06-.94-2.06-.94L8.5 2.5l-.94 2.06-2.06.94zm10 10l.94 2.06.94-2.06 2.06-.94-2.06-.94-.94-2.06-.94 2.06-2.06.94z\"/><path d=\"M17.41 7.96l-1.37-1.37c-.4-.4-.92-.59-1.43-.59-.52 0-1.04.2-1.43.59L10.3 9.45l-7.72 7.72c-.78.78-.78 2.05 0 2.83L4 21.41c.39.39.9.59 1.41.59.51 0 1.02-.2 1.41-.59l7.78-7.78 2.81-2.81c.8-.78.8-2.07 0-2.86zM5.41 20L4 18.59l7.72-7.72 1.47 1.35L5.41 20z\"/>\n",
              "  </svg>\n",
              "      </button>\n",
              "      \n",
              "  <style>\n",
              "    .colab-df-container {\n",
              "      display:flex;\n",
              "      flex-wrap:wrap;\n",
              "      gap: 12px;\n",
              "    }\n",
              "\n",
              "    .colab-df-convert {\n",
              "      background-color: #E8F0FE;\n",
              "      border: none;\n",
              "      border-radius: 50%;\n",
              "      cursor: pointer;\n",
              "      display: none;\n",
              "      fill: #1967D2;\n",
              "      height: 32px;\n",
              "      padding: 0 0 0 0;\n",
              "      width: 32px;\n",
              "    }\n",
              "\n",
              "    .colab-df-convert:hover {\n",
              "      background-color: #E2EBFA;\n",
              "      box-shadow: 0px 1px 2px rgba(60, 64, 67, 0.3), 0px 1px 3px 1px rgba(60, 64, 67, 0.15);\n",
              "      fill: #174EA6;\n",
              "    }\n",
              "\n",
              "    [theme=dark] .colab-df-convert {\n",
              "      background-color: #3B4455;\n",
              "      fill: #D2E3FC;\n",
              "    }\n",
              "\n",
              "    [theme=dark] .colab-df-convert:hover {\n",
              "      background-color: #434B5C;\n",
              "      box-shadow: 0px 1px 3px 1px rgba(0, 0, 0, 0.15);\n",
              "      filter: drop-shadow(0px 1px 2px rgba(0, 0, 0, 0.3));\n",
              "      fill: #FFFFFF;\n",
              "    }\n",
              "  </style>\n",
              "\n",
              "      <script>\n",
              "        const buttonEl =\n",
              "          document.querySelector('#df-05614abd-e735-4dc5-bd76-3e63c31a2a46 button.colab-df-convert');\n",
              "        buttonEl.style.display =\n",
              "          google.colab.kernel.accessAllowed ? 'block' : 'none';\n",
              "\n",
              "        async function convertToInteractive(key) {\n",
              "          const element = document.querySelector('#df-05614abd-e735-4dc5-bd76-3e63c31a2a46');\n",
              "          const dataTable =\n",
              "            await google.colab.kernel.invokeFunction('convertToInteractive',\n",
              "                                                     [key], {});\n",
              "          if (!dataTable) return;\n",
              "\n",
              "          const docLinkHtml = 'Like what you see? Visit the ' +\n",
              "            '<a target=\"_blank\" href=https://colab.research.google.com/notebooks/data_table.ipynb>data table notebook</a>'\n",
              "            + ' to learn more about interactive tables.';\n",
              "          element.innerHTML = '';\n",
              "          dataTable['output_type'] = 'display_data';\n",
              "          await google.colab.output.renderOutput(dataTable, element);\n",
              "          const docLink = document.createElement('div');\n",
              "          docLink.innerHTML = docLinkHtml;\n",
              "          element.appendChild(docLink);\n",
              "        }\n",
              "      </script>\n",
              "    </div>\n",
              "  </div>\n",
              "  "
            ]
          },
          "metadata": {},
          "execution_count": 11
        }
      ],
      "source": [
        "df.T"
      ]
    },
    {
      "cell_type": "code",
      "execution_count": 13,
      "metadata": {
        "id": "cAk25Z2VByF4"
      },
      "outputs": [],
      "source": [
        "#yeni bir kütüphane kullanacağız.\n",
        "import researchpy as rp"
      ]
    },
    {
      "cell_type": "markdown",
      "metadata": {
        "id": "DbEJ1630ByF6"
      },
      "source": [
        "Yukarıda yapmış olduğumuz işlemi bir de benzer şekilde _researchpy_ kütüphanesi ile yapalım.  \n",
        "_summary_cont_ işlevi ile sayısal değişkenleri seçeceğiz."
      ]
    },
    {
      "cell_type": "code",
      "execution_count": 14,
      "metadata": {
        "colab": {
          "base_uri": "https://localhost:8080/",
          "height": 178
        },
        "id": "sh92FDifByF6",
        "outputId": "4837e6b2-6214-48c3-e209-3da92b73f820"
      },
      "outputs": [
        {
          "output_type": "stream",
          "name": "stdout",
          "text": [
            "\n",
            "\n"
          ]
        },
        {
          "output_type": "execute_result",
          "data": {
            "text/plain": [
              "     Variable      N     Mean      SD      SE  95% Conf.  Interval\n",
              "0  total_bill  244.0  19.7859  8.9024  0.5699    18.6633   20.9086\n",
              "1         tip  244.0   2.9983  1.3836  0.0886     2.8238    3.1728\n",
              "2        size  244.0   2.5697  0.9511  0.0609     2.4497    2.6896"
            ],
            "text/html": [
              "\n",
              "  <div id=\"df-3ba75976-162d-41c3-9900-5af10ad3c8f9\">\n",
              "    <div class=\"colab-df-container\">\n",
              "      <div>\n",
              "<style scoped>\n",
              "    .dataframe tbody tr th:only-of-type {\n",
              "        vertical-align: middle;\n",
              "    }\n",
              "\n",
              "    .dataframe tbody tr th {\n",
              "        vertical-align: top;\n",
              "    }\n",
              "\n",
              "    .dataframe thead th {\n",
              "        text-align: right;\n",
              "    }\n",
              "</style>\n",
              "<table border=\"1\" class=\"dataframe\">\n",
              "  <thead>\n",
              "    <tr style=\"text-align: right;\">\n",
              "      <th></th>\n",
              "      <th>Variable</th>\n",
              "      <th>N</th>\n",
              "      <th>Mean</th>\n",
              "      <th>SD</th>\n",
              "      <th>SE</th>\n",
              "      <th>95% Conf.</th>\n",
              "      <th>Interval</th>\n",
              "    </tr>\n",
              "  </thead>\n",
              "  <tbody>\n",
              "    <tr>\n",
              "      <th>0</th>\n",
              "      <td>total_bill</td>\n",
              "      <td>244.0</td>\n",
              "      <td>19.7859</td>\n",
              "      <td>8.9024</td>\n",
              "      <td>0.5699</td>\n",
              "      <td>18.6633</td>\n",
              "      <td>20.9086</td>\n",
              "    </tr>\n",
              "    <tr>\n",
              "      <th>1</th>\n",
              "      <td>tip</td>\n",
              "      <td>244.0</td>\n",
              "      <td>2.9983</td>\n",
              "      <td>1.3836</td>\n",
              "      <td>0.0886</td>\n",
              "      <td>2.8238</td>\n",
              "      <td>3.1728</td>\n",
              "    </tr>\n",
              "    <tr>\n",
              "      <th>2</th>\n",
              "      <td>size</td>\n",
              "      <td>244.0</td>\n",
              "      <td>2.5697</td>\n",
              "      <td>0.9511</td>\n",
              "      <td>0.0609</td>\n",
              "      <td>2.4497</td>\n",
              "      <td>2.6896</td>\n",
              "    </tr>\n",
              "  </tbody>\n",
              "</table>\n",
              "</div>\n",
              "      <button class=\"colab-df-convert\" onclick=\"convertToInteractive('df-3ba75976-162d-41c3-9900-5af10ad3c8f9')\"\n",
              "              title=\"Convert this dataframe to an interactive table.\"\n",
              "              style=\"display:none;\">\n",
              "        \n",
              "  <svg xmlns=\"http://www.w3.org/2000/svg\" height=\"24px\"viewBox=\"0 0 24 24\"\n",
              "       width=\"24px\">\n",
              "    <path d=\"M0 0h24v24H0V0z\" fill=\"none\"/>\n",
              "    <path d=\"M18.56 5.44l.94 2.06.94-2.06 2.06-.94-2.06-.94-.94-2.06-.94 2.06-2.06.94zm-11 1L8.5 8.5l.94-2.06 2.06-.94-2.06-.94L8.5 2.5l-.94 2.06-2.06.94zm10 10l.94 2.06.94-2.06 2.06-.94-2.06-.94-.94-2.06-.94 2.06-2.06.94z\"/><path d=\"M17.41 7.96l-1.37-1.37c-.4-.4-.92-.59-1.43-.59-.52 0-1.04.2-1.43.59L10.3 9.45l-7.72 7.72c-.78.78-.78 2.05 0 2.83L4 21.41c.39.39.9.59 1.41.59.51 0 1.02-.2 1.41-.59l7.78-7.78 2.81-2.81c.8-.78.8-2.07 0-2.86zM5.41 20L4 18.59l7.72-7.72 1.47 1.35L5.41 20z\"/>\n",
              "  </svg>\n",
              "      </button>\n",
              "      \n",
              "  <style>\n",
              "    .colab-df-container {\n",
              "      display:flex;\n",
              "      flex-wrap:wrap;\n",
              "      gap: 12px;\n",
              "    }\n",
              "\n",
              "    .colab-df-convert {\n",
              "      background-color: #E8F0FE;\n",
              "      border: none;\n",
              "      border-radius: 50%;\n",
              "      cursor: pointer;\n",
              "      display: none;\n",
              "      fill: #1967D2;\n",
              "      height: 32px;\n",
              "      padding: 0 0 0 0;\n",
              "      width: 32px;\n",
              "    }\n",
              "\n",
              "    .colab-df-convert:hover {\n",
              "      background-color: #E2EBFA;\n",
              "      box-shadow: 0px 1px 2px rgba(60, 64, 67, 0.3), 0px 1px 3px 1px rgba(60, 64, 67, 0.15);\n",
              "      fill: #174EA6;\n",
              "    }\n",
              "\n",
              "    [theme=dark] .colab-df-convert {\n",
              "      background-color: #3B4455;\n",
              "      fill: #D2E3FC;\n",
              "    }\n",
              "\n",
              "    [theme=dark] .colab-df-convert:hover {\n",
              "      background-color: #434B5C;\n",
              "      box-shadow: 0px 1px 3px 1px rgba(0, 0, 0, 0.15);\n",
              "      filter: drop-shadow(0px 1px 2px rgba(0, 0, 0, 0.3));\n",
              "      fill: #FFFFFF;\n",
              "    }\n",
              "  </style>\n",
              "\n",
              "      <script>\n",
              "        const buttonEl =\n",
              "          document.querySelector('#df-3ba75976-162d-41c3-9900-5af10ad3c8f9 button.colab-df-convert');\n",
              "        buttonEl.style.display =\n",
              "          google.colab.kernel.accessAllowed ? 'block' : 'none';\n",
              "\n",
              "        async function convertToInteractive(key) {\n",
              "          const element = document.querySelector('#df-3ba75976-162d-41c3-9900-5af10ad3c8f9');\n",
              "          const dataTable =\n",
              "            await google.colab.kernel.invokeFunction('convertToInteractive',\n",
              "                                                     [key], {});\n",
              "          if (!dataTable) return;\n",
              "\n",
              "          const docLinkHtml = 'Like what you see? Visit the ' +\n",
              "            '<a target=\"_blank\" href=https://colab.research.google.com/notebooks/data_table.ipynb>data table notebook</a>'\n",
              "            + ' to learn more about interactive tables.';\n",
              "          element.innerHTML = '';\n",
              "          dataTable['output_type'] = 'display_data';\n",
              "          await google.colab.output.renderOutput(dataTable, element);\n",
              "          const docLink = document.createElement('div');\n",
              "          docLink.innerHTML = docLinkHtml;\n",
              "          element.appendChild(docLink);\n",
              "        }\n",
              "      </script>\n",
              "    </div>\n",
              "  </div>\n",
              "  "
            ]
          },
          "metadata": {},
          "execution_count": 14
        }
      ],
      "source": [
        "rp.summary_cont(df[[\"total_bill\", \"tip\", \"size\"]])"
      ]
    },
    {
      "cell_type": "markdown",
      "metadata": {
        "id": "bYEcWsYJByF8"
      },
      "source": [
        "describe() ile benzer olsa da bizim için belki daha anlamlı olabilecek bazı değerler verdi.  \n",
        "**N**: Gözlem sayıları  \n",
        "**Mean**: Ortalama  \n",
        "**SD**: Standart Sapma  \n",
        "**95% Conf. Interval** Güven Aralıkları"
      ]
    },
    {
      "cell_type": "markdown",
      "metadata": {
        "id": "c9247aVFByF9"
      },
      "source": [
        "Bir de bu işlemi categoric değişkenler için inceleyelim."
      ]
    },
    {
      "cell_type": "code",
      "execution_count": 15,
      "metadata": {
        "colab": {
          "base_uri": "https://localhost:8080/",
          "height": 175
        },
        "id": "DpyHxrw9ByF-",
        "outputId": "4cb4489a-b472-4af7-ea19-89e7aadaf9bc"
      },
      "outputs": [
        {
          "output_type": "execute_result",
          "data": {
            "text/plain": [
              "              0       1       2      3      4      5      6     7\n",
              "Variable    sex          smoker           day                    \n",
              "Outcome    Male  Female      No    Yes    Sat    Sun   Thur   Fri\n",
              "Count       157      87     151     93     87     76     62    19\n",
              "Percent   64.34   35.66   61.89  38.11  35.66  31.15  25.41  7.79"
            ],
            "text/html": [
              "\n",
              "  <div id=\"df-7e1cdd3e-347f-4459-b94e-d17af61afec2\">\n",
              "    <div class=\"colab-df-container\">\n",
              "      <div>\n",
              "<style scoped>\n",
              "    .dataframe tbody tr th:only-of-type {\n",
              "        vertical-align: middle;\n",
              "    }\n",
              "\n",
              "    .dataframe tbody tr th {\n",
              "        vertical-align: top;\n",
              "    }\n",
              "\n",
              "    .dataframe thead th {\n",
              "        text-align: right;\n",
              "    }\n",
              "</style>\n",
              "<table border=\"1\" class=\"dataframe\">\n",
              "  <thead>\n",
              "    <tr style=\"text-align: right;\">\n",
              "      <th></th>\n",
              "      <th>0</th>\n",
              "      <th>1</th>\n",
              "      <th>2</th>\n",
              "      <th>3</th>\n",
              "      <th>4</th>\n",
              "      <th>5</th>\n",
              "      <th>6</th>\n",
              "      <th>7</th>\n",
              "    </tr>\n",
              "  </thead>\n",
              "  <tbody>\n",
              "    <tr>\n",
              "      <th>Variable</th>\n",
              "      <td>sex</td>\n",
              "      <td></td>\n",
              "      <td>smoker</td>\n",
              "      <td></td>\n",
              "      <td>day</td>\n",
              "      <td></td>\n",
              "      <td></td>\n",
              "      <td></td>\n",
              "    </tr>\n",
              "    <tr>\n",
              "      <th>Outcome</th>\n",
              "      <td>Male</td>\n",
              "      <td>Female</td>\n",
              "      <td>No</td>\n",
              "      <td>Yes</td>\n",
              "      <td>Sat</td>\n",
              "      <td>Sun</td>\n",
              "      <td>Thur</td>\n",
              "      <td>Fri</td>\n",
              "    </tr>\n",
              "    <tr>\n",
              "      <th>Count</th>\n",
              "      <td>157</td>\n",
              "      <td>87</td>\n",
              "      <td>151</td>\n",
              "      <td>93</td>\n",
              "      <td>87</td>\n",
              "      <td>76</td>\n",
              "      <td>62</td>\n",
              "      <td>19</td>\n",
              "    </tr>\n",
              "    <tr>\n",
              "      <th>Percent</th>\n",
              "      <td>64.34</td>\n",
              "      <td>35.66</td>\n",
              "      <td>61.89</td>\n",
              "      <td>38.11</td>\n",
              "      <td>35.66</td>\n",
              "      <td>31.15</td>\n",
              "      <td>25.41</td>\n",
              "      <td>7.79</td>\n",
              "    </tr>\n",
              "  </tbody>\n",
              "</table>\n",
              "</div>\n",
              "      <button class=\"colab-df-convert\" onclick=\"convertToInteractive('df-7e1cdd3e-347f-4459-b94e-d17af61afec2')\"\n",
              "              title=\"Convert this dataframe to an interactive table.\"\n",
              "              style=\"display:none;\">\n",
              "        \n",
              "  <svg xmlns=\"http://www.w3.org/2000/svg\" height=\"24px\"viewBox=\"0 0 24 24\"\n",
              "       width=\"24px\">\n",
              "    <path d=\"M0 0h24v24H0V0z\" fill=\"none\"/>\n",
              "    <path d=\"M18.56 5.44l.94 2.06.94-2.06 2.06-.94-2.06-.94-.94-2.06-.94 2.06-2.06.94zm-11 1L8.5 8.5l.94-2.06 2.06-.94-2.06-.94L8.5 2.5l-.94 2.06-2.06.94zm10 10l.94 2.06.94-2.06 2.06-.94-2.06-.94-.94-2.06-.94 2.06-2.06.94z\"/><path d=\"M17.41 7.96l-1.37-1.37c-.4-.4-.92-.59-1.43-.59-.52 0-1.04.2-1.43.59L10.3 9.45l-7.72 7.72c-.78.78-.78 2.05 0 2.83L4 21.41c.39.39.9.59 1.41.59.51 0 1.02-.2 1.41-.59l7.78-7.78 2.81-2.81c.8-.78.8-2.07 0-2.86zM5.41 20L4 18.59l7.72-7.72 1.47 1.35L5.41 20z\"/>\n",
              "  </svg>\n",
              "      </button>\n",
              "      \n",
              "  <style>\n",
              "    .colab-df-container {\n",
              "      display:flex;\n",
              "      flex-wrap:wrap;\n",
              "      gap: 12px;\n",
              "    }\n",
              "\n",
              "    .colab-df-convert {\n",
              "      background-color: #E8F0FE;\n",
              "      border: none;\n",
              "      border-radius: 50%;\n",
              "      cursor: pointer;\n",
              "      display: none;\n",
              "      fill: #1967D2;\n",
              "      height: 32px;\n",
              "      padding: 0 0 0 0;\n",
              "      width: 32px;\n",
              "    }\n",
              "\n",
              "    .colab-df-convert:hover {\n",
              "      background-color: #E2EBFA;\n",
              "      box-shadow: 0px 1px 2px rgba(60, 64, 67, 0.3), 0px 1px 3px 1px rgba(60, 64, 67, 0.15);\n",
              "      fill: #174EA6;\n",
              "    }\n",
              "\n",
              "    [theme=dark] .colab-df-convert {\n",
              "      background-color: #3B4455;\n",
              "      fill: #D2E3FC;\n",
              "    }\n",
              "\n",
              "    [theme=dark] .colab-df-convert:hover {\n",
              "      background-color: #434B5C;\n",
              "      box-shadow: 0px 1px 3px 1px rgba(0, 0, 0, 0.15);\n",
              "      filter: drop-shadow(0px 1px 2px rgba(0, 0, 0, 0.3));\n",
              "      fill: #FFFFFF;\n",
              "    }\n",
              "  </style>\n",
              "\n",
              "      <script>\n",
              "        const buttonEl =\n",
              "          document.querySelector('#df-7e1cdd3e-347f-4459-b94e-d17af61afec2 button.colab-df-convert');\n",
              "        buttonEl.style.display =\n",
              "          google.colab.kernel.accessAllowed ? 'block' : 'none';\n",
              "\n",
              "        async function convertToInteractive(key) {\n",
              "          const element = document.querySelector('#df-7e1cdd3e-347f-4459-b94e-d17af61afec2');\n",
              "          const dataTable =\n",
              "            await google.colab.kernel.invokeFunction('convertToInteractive',\n",
              "                                                     [key], {});\n",
              "          if (!dataTable) return;\n",
              "\n",
              "          const docLinkHtml = 'Like what you see? Visit the ' +\n",
              "            '<a target=\"_blank\" href=https://colab.research.google.com/notebooks/data_table.ipynb>data table notebook</a>'\n",
              "            + ' to learn more about interactive tables.';\n",
              "          element.innerHTML = '';\n",
              "          dataTable['output_type'] = 'display_data';\n",
              "          await google.colab.output.renderOutput(dataTable, element);\n",
              "          const docLink = document.createElement('div');\n",
              "          docLink.innerHTML = docLinkHtml;\n",
              "          element.appendChild(docLink);\n",
              "        }\n",
              "      </script>\n",
              "    </div>\n",
              "  </div>\n",
              "  "
            ]
          },
          "metadata": {},
          "execution_count": 15
        }
      ],
      "source": [
        "rp.summary_cat(df[[\"sex\", \"smoker\", \"day\"]]).T"
      ]
    },
    {
      "cell_type": "markdown",
      "metadata": {
        "id": "5CvbNhdVByGA"
      },
      "source": [
        "Veri okuryazarlığından biraz daha farklı olarak betimsel istatistikleri farklı bir kütüphane ile ele almış olduk.  \n",
        "Bu bölümün asıl farklılaştığı nokta olan **kovaryans** ve **korelasyon**'u da hızlıca bir ele alalım."
      ]
    },
    {
      "cell_type": "markdown",
      "metadata": {
        "id": "G6NC2wSpByGB"
      },
      "source": [
        "**Kovaryans**: Değişkenlerin ilişkilerine ilişkin bir değişkenlik ölçüsü."
      ]
    },
    {
      "cell_type": "markdown",
      "metadata": {
        "id": "ewFqSW_PByGB"
      },
      "source": [
        "**cov()** ile kovaryans hesaplaması yapabiliriz."
      ]
    },
    {
      "cell_type": "code",
      "execution_count": 16,
      "metadata": {
        "colab": {
          "base_uri": "https://localhost:8080/",
          "height": 112
        },
        "id": "NTsWmxplByGB",
        "outputId": "ec0890f6-15c3-4d73-e09f-19999d1f4ad7"
      },
      "outputs": [
        {
          "output_type": "execute_result",
          "data": {
            "text/plain": [
              "                 tip  total_bill\n",
              "tip         1.914455    8.323502\n",
              "total_bill  8.323502   79.252939"
            ],
            "text/html": [
              "\n",
              "  <div id=\"df-99b31f8f-b4d4-43c9-aeea-bb996605abd3\">\n",
              "    <div class=\"colab-df-container\">\n",
              "      <div>\n",
              "<style scoped>\n",
              "    .dataframe tbody tr th:only-of-type {\n",
              "        vertical-align: middle;\n",
              "    }\n",
              "\n",
              "    .dataframe tbody tr th {\n",
              "        vertical-align: top;\n",
              "    }\n",
              "\n",
              "    .dataframe thead th {\n",
              "        text-align: right;\n",
              "    }\n",
              "</style>\n",
              "<table border=\"1\" class=\"dataframe\">\n",
              "  <thead>\n",
              "    <tr style=\"text-align: right;\">\n",
              "      <th></th>\n",
              "      <th>tip</th>\n",
              "      <th>total_bill</th>\n",
              "    </tr>\n",
              "  </thead>\n",
              "  <tbody>\n",
              "    <tr>\n",
              "      <th>tip</th>\n",
              "      <td>1.914455</td>\n",
              "      <td>8.323502</td>\n",
              "    </tr>\n",
              "    <tr>\n",
              "      <th>total_bill</th>\n",
              "      <td>8.323502</td>\n",
              "      <td>79.252939</td>\n",
              "    </tr>\n",
              "  </tbody>\n",
              "</table>\n",
              "</div>\n",
              "      <button class=\"colab-df-convert\" onclick=\"convertToInteractive('df-99b31f8f-b4d4-43c9-aeea-bb996605abd3')\"\n",
              "              title=\"Convert this dataframe to an interactive table.\"\n",
              "              style=\"display:none;\">\n",
              "        \n",
              "  <svg xmlns=\"http://www.w3.org/2000/svg\" height=\"24px\"viewBox=\"0 0 24 24\"\n",
              "       width=\"24px\">\n",
              "    <path d=\"M0 0h24v24H0V0z\" fill=\"none\"/>\n",
              "    <path d=\"M18.56 5.44l.94 2.06.94-2.06 2.06-.94-2.06-.94-.94-2.06-.94 2.06-2.06.94zm-11 1L8.5 8.5l.94-2.06 2.06-.94-2.06-.94L8.5 2.5l-.94 2.06-2.06.94zm10 10l.94 2.06.94-2.06 2.06-.94-2.06-.94-.94-2.06-.94 2.06-2.06.94z\"/><path d=\"M17.41 7.96l-1.37-1.37c-.4-.4-.92-.59-1.43-.59-.52 0-1.04.2-1.43.59L10.3 9.45l-7.72 7.72c-.78.78-.78 2.05 0 2.83L4 21.41c.39.39.9.59 1.41.59.51 0 1.02-.2 1.41-.59l7.78-7.78 2.81-2.81c.8-.78.8-2.07 0-2.86zM5.41 20L4 18.59l7.72-7.72 1.47 1.35L5.41 20z\"/>\n",
              "  </svg>\n",
              "      </button>\n",
              "      \n",
              "  <style>\n",
              "    .colab-df-container {\n",
              "      display:flex;\n",
              "      flex-wrap:wrap;\n",
              "      gap: 12px;\n",
              "    }\n",
              "\n",
              "    .colab-df-convert {\n",
              "      background-color: #E8F0FE;\n",
              "      border: none;\n",
              "      border-radius: 50%;\n",
              "      cursor: pointer;\n",
              "      display: none;\n",
              "      fill: #1967D2;\n",
              "      height: 32px;\n",
              "      padding: 0 0 0 0;\n",
              "      width: 32px;\n",
              "    }\n",
              "\n",
              "    .colab-df-convert:hover {\n",
              "      background-color: #E2EBFA;\n",
              "      box-shadow: 0px 1px 2px rgba(60, 64, 67, 0.3), 0px 1px 3px 1px rgba(60, 64, 67, 0.15);\n",
              "      fill: #174EA6;\n",
              "    }\n",
              "\n",
              "    [theme=dark] .colab-df-convert {\n",
              "      background-color: #3B4455;\n",
              "      fill: #D2E3FC;\n",
              "    }\n",
              "\n",
              "    [theme=dark] .colab-df-convert:hover {\n",
              "      background-color: #434B5C;\n",
              "      box-shadow: 0px 1px 3px 1px rgba(0, 0, 0, 0.15);\n",
              "      filter: drop-shadow(0px 1px 2px rgba(0, 0, 0, 0.3));\n",
              "      fill: #FFFFFF;\n",
              "    }\n",
              "  </style>\n",
              "\n",
              "      <script>\n",
              "        const buttonEl =\n",
              "          document.querySelector('#df-99b31f8f-b4d4-43c9-aeea-bb996605abd3 button.colab-df-convert');\n",
              "        buttonEl.style.display =\n",
              "          google.colab.kernel.accessAllowed ? 'block' : 'none';\n",
              "\n",
              "        async function convertToInteractive(key) {\n",
              "          const element = document.querySelector('#df-99b31f8f-b4d4-43c9-aeea-bb996605abd3');\n",
              "          const dataTable =\n",
              "            await google.colab.kernel.invokeFunction('convertToInteractive',\n",
              "                                                     [key], {});\n",
              "          if (!dataTable) return;\n",
              "\n",
              "          const docLinkHtml = 'Like what you see? Visit the ' +\n",
              "            '<a target=\"_blank\" href=https://colab.research.google.com/notebooks/data_table.ipynb>data table notebook</a>'\n",
              "            + ' to learn more about interactive tables.';\n",
              "          element.innerHTML = '';\n",
              "          dataTable['output_type'] = 'display_data';\n",
              "          await google.colab.output.renderOutput(dataTable, element);\n",
              "          const docLink = document.createElement('div');\n",
              "          docLink.innerHTML = docLinkHtml;\n",
              "          element.appendChild(docLink);\n",
              "        }\n",
              "      </script>\n",
              "    </div>\n",
              "  </div>\n",
              "  "
            ]
          },
          "metadata": {},
          "execution_count": 16
        }
      ],
      "source": [
        "df[[\"tip\", \"total_bill\"]].cov()"
      ]
    },
    {
      "cell_type": "markdown",
      "metadata": {
        "id": "J6gSLWB6ByGE"
      },
      "source": [
        "**Korelasyon**: İki değişken arasındaki ilişki hakkında bilgi verici ölçü."
      ]
    },
    {
      "cell_type": "markdown",
      "metadata": {
        "id": "JfK18jZLByGE"
      },
      "source": [
        "**corr()** ile korelasyon hesaplaması yapabiliriz."
      ]
    },
    {
      "cell_type": "code",
      "execution_count": 17,
      "metadata": {
        "colab": {
          "base_uri": "https://localhost:8080/",
          "height": 112
        },
        "id": "dtbp4cXLByGF",
        "outputId": "af141dfc-7dc4-4cf6-8df4-f62c0e9dbf21"
      },
      "outputs": [
        {
          "output_type": "execute_result",
          "data": {
            "text/plain": [
              "                 tip  total_bill\n",
              "tip         1.000000    0.675734\n",
              "total_bill  0.675734    1.000000"
            ],
            "text/html": [
              "\n",
              "  <div id=\"df-0fe096a7-fb3b-4638-9e93-748a76c235f7\">\n",
              "    <div class=\"colab-df-container\">\n",
              "      <div>\n",
              "<style scoped>\n",
              "    .dataframe tbody tr th:only-of-type {\n",
              "        vertical-align: middle;\n",
              "    }\n",
              "\n",
              "    .dataframe tbody tr th {\n",
              "        vertical-align: top;\n",
              "    }\n",
              "\n",
              "    .dataframe thead th {\n",
              "        text-align: right;\n",
              "    }\n",
              "</style>\n",
              "<table border=\"1\" class=\"dataframe\">\n",
              "  <thead>\n",
              "    <tr style=\"text-align: right;\">\n",
              "      <th></th>\n",
              "      <th>tip</th>\n",
              "      <th>total_bill</th>\n",
              "    </tr>\n",
              "  </thead>\n",
              "  <tbody>\n",
              "    <tr>\n",
              "      <th>tip</th>\n",
              "      <td>1.000000</td>\n",
              "      <td>0.675734</td>\n",
              "    </tr>\n",
              "    <tr>\n",
              "      <th>total_bill</th>\n",
              "      <td>0.675734</td>\n",
              "      <td>1.000000</td>\n",
              "    </tr>\n",
              "  </tbody>\n",
              "</table>\n",
              "</div>\n",
              "      <button class=\"colab-df-convert\" onclick=\"convertToInteractive('df-0fe096a7-fb3b-4638-9e93-748a76c235f7')\"\n",
              "              title=\"Convert this dataframe to an interactive table.\"\n",
              "              style=\"display:none;\">\n",
              "        \n",
              "  <svg xmlns=\"http://www.w3.org/2000/svg\" height=\"24px\"viewBox=\"0 0 24 24\"\n",
              "       width=\"24px\">\n",
              "    <path d=\"M0 0h24v24H0V0z\" fill=\"none\"/>\n",
              "    <path d=\"M18.56 5.44l.94 2.06.94-2.06 2.06-.94-2.06-.94-.94-2.06-.94 2.06-2.06.94zm-11 1L8.5 8.5l.94-2.06 2.06-.94-2.06-.94L8.5 2.5l-.94 2.06-2.06.94zm10 10l.94 2.06.94-2.06 2.06-.94-2.06-.94-.94-2.06-.94 2.06-2.06.94z\"/><path d=\"M17.41 7.96l-1.37-1.37c-.4-.4-.92-.59-1.43-.59-.52 0-1.04.2-1.43.59L10.3 9.45l-7.72 7.72c-.78.78-.78 2.05 0 2.83L4 21.41c.39.39.9.59 1.41.59.51 0 1.02-.2 1.41-.59l7.78-7.78 2.81-2.81c.8-.78.8-2.07 0-2.86zM5.41 20L4 18.59l7.72-7.72 1.47 1.35L5.41 20z\"/>\n",
              "  </svg>\n",
              "      </button>\n",
              "      \n",
              "  <style>\n",
              "    .colab-df-container {\n",
              "      display:flex;\n",
              "      flex-wrap:wrap;\n",
              "      gap: 12px;\n",
              "    }\n",
              "\n",
              "    .colab-df-convert {\n",
              "      background-color: #E8F0FE;\n",
              "      border: none;\n",
              "      border-radius: 50%;\n",
              "      cursor: pointer;\n",
              "      display: none;\n",
              "      fill: #1967D2;\n",
              "      height: 32px;\n",
              "      padding: 0 0 0 0;\n",
              "      width: 32px;\n",
              "    }\n",
              "\n",
              "    .colab-df-convert:hover {\n",
              "      background-color: #E2EBFA;\n",
              "      box-shadow: 0px 1px 2px rgba(60, 64, 67, 0.3), 0px 1px 3px 1px rgba(60, 64, 67, 0.15);\n",
              "      fill: #174EA6;\n",
              "    }\n",
              "\n",
              "    [theme=dark] .colab-df-convert {\n",
              "      background-color: #3B4455;\n",
              "      fill: #D2E3FC;\n",
              "    }\n",
              "\n",
              "    [theme=dark] .colab-df-convert:hover {\n",
              "      background-color: #434B5C;\n",
              "      box-shadow: 0px 1px 3px 1px rgba(0, 0, 0, 0.15);\n",
              "      filter: drop-shadow(0px 1px 2px rgba(0, 0, 0, 0.3));\n",
              "      fill: #FFFFFF;\n",
              "    }\n",
              "  </style>\n",
              "\n",
              "      <script>\n",
              "        const buttonEl =\n",
              "          document.querySelector('#df-0fe096a7-fb3b-4638-9e93-748a76c235f7 button.colab-df-convert');\n",
              "        buttonEl.style.display =\n",
              "          google.colab.kernel.accessAllowed ? 'block' : 'none';\n",
              "\n",
              "        async function convertToInteractive(key) {\n",
              "          const element = document.querySelector('#df-0fe096a7-fb3b-4638-9e93-748a76c235f7');\n",
              "          const dataTable =\n",
              "            await google.colab.kernel.invokeFunction('convertToInteractive',\n",
              "                                                     [key], {});\n",
              "          if (!dataTable) return;\n",
              "\n",
              "          const docLinkHtml = 'Like what you see? Visit the ' +\n",
              "            '<a target=\"_blank\" href=https://colab.research.google.com/notebooks/data_table.ipynb>data table notebook</a>'\n",
              "            + ' to learn more about interactive tables.';\n",
              "          element.innerHTML = '';\n",
              "          dataTable['output_type'] = 'display_data';\n",
              "          await google.colab.output.renderOutput(dataTable, element);\n",
              "          const docLink = document.createElement('div');\n",
              "          docLink.innerHTML = docLinkHtml;\n",
              "          element.appendChild(docLink);\n",
              "        }\n",
              "      </script>\n",
              "    </div>\n",
              "  </div>\n",
              "  "
            ]
          },
          "metadata": {},
          "execution_count": 17
        }
      ],
      "source": [
        "df[[\"tip\", \"total_bill\"]].corr()"
      ]
    },
    {
      "cell_type": "markdown",
      "metadata": {
        "id": "rys0S1TqByGJ"
      },
      "source": [
        "## İş Uygulaması: Fiyat Stratejisi Karar Destek Sistemi"
      ]
    },
    {
      "cell_type": "markdown",
      "metadata": {
        "id": "ACroGImfByGK"
      },
      "source": [
        "Ürüne gelen fiyat teklifleri için veri toplandığını farzedelim.  \n",
        "Şimdilik bu verileri kendimiz oluşturacağız."
      ]
    },
    {
      "cell_type": "code",
      "execution_count": 18,
      "metadata": {
        "id": "PFvrYrDPByGK"
      },
      "outputs": [],
      "source": [
        "import numpy as np\n",
        "# 10 ve 110 TL araliginde 1000 adet teklif\n",
        "fiyatlar = np.random.randint(10, 110, 1000)"
      ]
    },
    {
      "cell_type": "code",
      "execution_count": 19,
      "metadata": {
        "colab": {
          "base_uri": "https://localhost:8080/"
        },
        "id": "R7MIyry6ByGM",
        "outputId": "23332c9f-b7f7-4798-f3dd-c0bca0f804fb"
      },
      "outputs": [
        {
          "output_type": "execute_result",
          "data": {
            "text/plain": [
              "58.492"
            ]
          },
          "metadata": {},
          "execution_count": 19
        }
      ],
      "source": [
        "fiyatlar.mean()\n",
        "#Ortalama ödenmesi göze alınan miktar"
      ]
    },
    {
      "cell_type": "code",
      "execution_count": 20,
      "metadata": {
        "id": "2p0Zjx0wnagP"
      },
      "outputs": [],
      "source": [
        "#pip install git+https://github.com/statsmodels/statsmodels\n",
        "#pip install statsmodels  \n",
        "#conda install -c conda-forge statsmodels"
      ]
    },
    {
      "cell_type": "markdown",
      "metadata": {
        "id": "TiUqIboyByGP"
      },
      "source": [
        "Bunun etrafına bir güven aralığı koyarak çok daha zengin bir karar mekanizması oluşturmuş olacağız.  \n",
        "Şimdi bunun için yeni bir kütüphane import edeceğiz."
      ]
    },
    {
      "cell_type": "code",
      "execution_count": 21,
      "metadata": {
        "id": "YyeVKpD8ByGQ"
      },
      "outputs": [],
      "source": [
        "import statsmodels.stats.api as sms"
      ]
    },
    {
      "cell_type": "code",
      "execution_count": 22,
      "metadata": {
        "colab": {
          "base_uri": "https://localhost:8080/"
        },
        "id": "6dc-hL6QByGS",
        "outputId": "44a21b66-6372-44c5-c49d-6fe7fb700abe"
      },
      "outputs": [
        {
          "output_type": "execute_result",
          "data": {
            "text/plain": [
              "(56.67953887736034, 60.30446112263965)"
            ]
          },
          "metadata": {},
          "execution_count": 22
        }
      ],
      "source": [
        "sms.DescrStatsW(fiyatlar).tconfint_mean()"
      ]
    },
    {
      "cell_type": "markdown",
      "metadata": {
        "id": "Kh9UMXEhByGT"
      },
      "source": [
        "Müşterilerin %95'i 57-61 TL aralığında bedel ödemeyi göze almıştır."
      ]
    },
    {
      "cell_type": "markdown",
      "metadata": {
        "id": "b4oNjJKMnagQ"
      },
      "source": [
        "# Olasılık Dağılımları"
      ]
    },
    {
      "cell_type": "code",
      "metadata": {
        "id": "SHN_WXHIByGU"
      },
      "source": [
        "## Bernoulli Dağılımı"
      ],
      "execution_count": 23,
      "outputs": []
    },
    {
      "cell_type": "markdown",
      "metadata": {
        "id": "CskZrT_FnagR"
      },
      "source": [
        "${\\displaystyle f(k;p)=p^{k}(1-p)^{1-k}\\quad {\\text{for }}k\\in \\{0,1\\}}$\n",
        "\n",
        "\n",
        "${\\displaystyle \\operatorname {E} \\left(X\\right)=p}$\n",
        "\n",
        "$\\operatorname {Var} [X]=pq=p(1-p)$"
      ]
    },
    {
      "cell_type": "markdown",
      "metadata": {
        "id": "Uk3eQvYWnagR"
      },
      "source": [
        "Olasılık dağılımları ile ilgili işlemler için _scipy_ ismi verilen kütüphaneyi kullanıyoruz."
      ]
    },
    {
      "cell_type": "code",
      "execution_count": 24,
      "metadata": {
        "id": "IKzrLbswnagR"
      },
      "outputs": [],
      "source": [
        "from scipy.stats import bernoulli"
      ]
    },
    {
      "cell_type": "code",
      "execution_count": 25,
      "metadata": {
        "id": "1-9m6dmGnagR"
      },
      "outputs": [],
      "source": [
        "#p -> 2 sonuçlu bir olayı ifade ediyor. (Yazı Tura gibi)\n",
        "p = 0.6 #Tura gelme olasılığı"
      ]
    },
    {
      "cell_type": "code",
      "execution_count": 26,
      "metadata": {
        "id": "ukOi5OXVnagR"
      },
      "outputs": [],
      "source": [
        "rv = bernoulli(p)"
      ]
    },
    {
      "cell_type": "code",
      "execution_count": 27,
      "metadata": {
        "colab": {
          "base_uri": "https://localhost:8080/"
        },
        "id": "DJ5F8CC8nagR",
        "outputId": "c7702dd8-41c2-49e9-f00d-41a2276c65b2"
      },
      "outputs": [
        {
          "output_type": "execute_result",
          "data": {
            "text/plain": [
              "0.6"
            ]
          },
          "metadata": {},
          "execution_count": 27
        }
      ],
      "source": [
        "rv.pmf(k = 1) #pmf -> probability mass function(olasılık kütle fonksiyonu)\n",
        "# k = 1 -> Tura gelme olasılığını hesaplar"
      ]
    },
    {
      "cell_type": "code",
      "execution_count": 28,
      "metadata": {
        "colab": {
          "base_uri": "https://localhost:8080/"
        },
        "id": "De1dmr26nagS",
        "outputId": "0b4f3045-e554-43f6-d73b-3ae95403240a"
      },
      "outputs": [
        {
          "output_type": "execute_result",
          "data": {
            "text/plain": [
              "0.4"
            ]
          },
          "metadata": {},
          "execution_count": 28
        }
      ],
      "source": [
        "rv.pmf(k = 0) #yazı gelme olasılığını hesaplar"
      ]
    },
    {
      "cell_type": "markdown",
      "metadata": {
        "id": "IdfaCwdLnagS"
      },
      "source": [
        "## Büyük Sayılar Yasası"
      ]
    },
    {
      "cell_type": "markdown",
      "metadata": {
        "id": "5btak0NBnagS"
      },
      "source": [
        "Bir rassal değişkenin uzun vadeli kararlılığını tanımlayan olasılık teoremidir."
      ]
    },
    {
      "cell_type": "markdown",
      "metadata": {
        "id": "Gw8SuTJgnagS"
      },
      "source": [
        "Düşünelim ki bir para atıyoruz, yazı yada tura gelme olasılığı %50'dir.  \n",
        "Ancak 5 kez para attığımızı düşünelim 4 kez yazı 1 kez tura geldi.  \n",
        "Tura gelme olasılığı %20 çıktı."
      ]
    },
    {
      "cell_type": "markdown",
      "metadata": {
        "id": "aPDVoCGunagS"
      },
      "source": [
        "Biz bu deneyi sürekli atış sayısını arttırarak yapsaydık görmüş olacaktık ki,  \n",
        "atış sayısı arttıkça oranlar %50'ye daha da yaklaşacaktı."
      ]
    },
    {
      "cell_type": "markdown",
      "metadata": {
        "id": "GSP2n-F3nagT"
      },
      "source": [
        "Şimdi biz bu durumu kendi yazdığımız küçük bir döngü aracılığıyla gözlemlemiş olacağız."
      ]
    },
    {
      "cell_type": "code",
      "execution_count": 29,
      "metadata": {
        "colab": {
          "base_uri": "https://localhost:8080/"
        },
        "id": "h8mawOMUnagT",
        "outputId": "d5f7a344-1b7b-43b7-eeff-13877a8fbbfe"
      },
      "outputs": [
        {
          "output_type": "stream",
          "name": "stdout",
          "text": [
            "Atış Sayısı: 2 --- Yazı Olasılığı: 50.00\n",
            "Atış Sayısı: 4 --- Yazı Olasılığı: 0.00\n",
            "Atış Sayısı: 8 --- Yazı Olasılığı: 62.50\n",
            "Atış Sayısı: 16 --- Yazı Olasılığı: 43.75\n",
            "Atış Sayısı: 32 --- Yazı Olasılığı: 46.88\n",
            "Atış Sayısı: 64 --- Yazı Olasılığı: 56.25\n",
            "Atış Sayısı: 128 --- Yazı Olasılığı: 50.78\n",
            "Atış Sayısı: 256 --- Yazı Olasılığı: 52.73\n",
            "Atış Sayısı: 512 --- Yazı Olasılığı: 52.93\n",
            "Atış Sayısı: 1024 --- Yazı Olasılığı: 50.20\n",
            "Atış Sayısı: 2048 --- Yazı Olasılığı: 48.58\n",
            "Atış Sayısı: 4096 --- Yazı Olasılığı: 49.49\n",
            "Atış Sayısı: 8192 --- Yazı Olasılığı: 49.58\n",
            "Atış Sayısı: 16384 --- Yazı Olasılığı: 49.96\n",
            "Atış Sayısı: 32768 --- Yazı Olasılığı: 50.00\n",
            "Atış Sayısı: 65536 --- Yazı Olasılığı: 49.68\n",
            "Atış Sayısı: 131072 --- Yazı Olasılığı: 49.97\n",
            "Atış Sayısı: 262144 --- Yazı Olasılığı: 50.13\n",
            "Atış Sayısı: 524288 --- Yazı Olasılığı: 50.01\n",
            "Atış Sayısı: 1048576 --- Yazı Olasılığı: 50.09\n"
          ]
        }
      ],
      "source": [
        "import numpy as np\n",
        "rng = np.random.RandomState(123) # Yapılacak işlemleri sabitlemek için random state kullandik.\n",
        "for i in np.arange(1,21): #1-20 arasinda gez\n",
        "    deney_sayisi = 2**i\n",
        "    yazi_turalar = rng.randint(0, 2, size=deney_sayisi)\n",
        "    yazi_olasiliklari = np.mean(yazi_turalar)\n",
        "    print(\"Atış Sayısı:\", deney_sayisi, \"---\", \"Yazı Olasılığı: %.2f\"%(yazi_olasiliklari*100))"
      ]
    },
    {
      "cell_type": "markdown",
      "metadata": {
        "id": "TwrGDuzWnagT"
      },
      "source": [
        "## Binom Dağılımı"
      ]
    },
    {
      "cell_type": "markdown",
      "metadata": {
        "id": "Sf2SKfHFnagT"
      },
      "source": [
        "Binom dağılımı, bağımsız **n** deneme sonucu **k** başarılı olma olasılığı ile ilgilenildiğinde kullanılan dağılımdır."
      ]
    },
    {
      "cell_type": "markdown",
      "metadata": {
        "id": "z0vecD3SnagT"
      },
      "source": [
        "${\\displaystyle f(k;n,p)={n \\choose k}p^{k}(1-p)^{n-k}}$, k = 0, 1, 2, ...,n\n",
        "\n",
        "\n",
        "${\\displaystyle \\operatorname {E} (X)=np}$\n",
        "\n",
        "\n",
        "${\\displaystyle \\operatorname {Var} (X)=np(1-p)}$"
      ]
    },
    {
      "cell_type": "markdown",
      "metadata": {
        "id": "szVau3dUnagT"
      },
      "source": [
        "## İş Uygulaması: Reklam Harcaması Optimizasyonu"
      ]
    },
    {
      "cell_type": "code",
      "execution_count": 30,
      "metadata": {
        "id": "zG0KV1sInagT"
      },
      "outputs": [],
      "source": [
        "from scipy.stats import binom"
      ]
    },
    {
      "cell_type": "code",
      "execution_count": 31,
      "metadata": {
        "colab": {
          "base_uri": "https://localhost:8080/"
        },
        "id": "r3157R5wnagU",
        "outputId": "f5dbbaa1-6fea-483f-e857-03390fca8707"
      },
      "outputs": [
        {
          "output_type": "stream",
          "name": "stdout",
          "text": [
            "0.36972963764971983\n",
            "0.0028977871237616114\n",
            "7.006035693977161e-08\n"
          ]
        }
      ],
      "source": [
        "p = 0.01 #bildiğimiz olasılık değerimiz\n",
        "n = 100 #deneme sayısı\n",
        "rv = binom(n, p)\n",
        "print(rv.pmf(1)) #pmf=probability mass function. 1 kişinin tıklama olasılığı\n",
        "print(rv.pmf(5)) # 5 kişinin tıklama olasılığı\n",
        "print(rv.pmf(10)) # 10 kişinin tıklama olasılığı"
      ]
    },
    {
      "cell_type": "markdown",
      "metadata": {
        "id": "r-6e2ML1nagU"
      },
      "source": [
        "## Poison Dağılımı"
      ]
    },
    {
      "cell_type": "markdown",
      "metadata": {
        "id": "lyOC_p5UnagU"
      },
      "source": [
        "${\\displaystyle f(x,\\lambda )={\\frac {\\lambda ^{x}e^{-\\lambda }}{x!}}\\,\\!}$,  x = 0,1,2,...,n"
      ]
    },
    {
      "cell_type": "markdown",
      "metadata": {
        "id": "6zs6ak7ynagU"
      },
      "source": [
        "### İş Uygulaması: İlan Girişi Hata Olasılıklarının Hesaplanması"
      ]
    },
    {
      "cell_type": "markdown",
      "metadata": {
        "id": "19ny9nA0nagU"
      },
      "source": [
        "<img src=\"https://i.ibb.co/SQYR7Dc/Screenshot-1.jpg\" alt=\"Screenshot-1\" border=\"0\">"
      ]
    },
    {
      "cell_type": "code",
      "execution_count": 32,
      "metadata": {
        "id": "7by8x3JXnagU"
      },
      "outputs": [],
      "source": [
        "from scipy.stats import poisson"
      ]
    },
    {
      "cell_type": "code",
      "execution_count": 33,
      "metadata": {
        "id": "RsWb2VGKnagU"
      },
      "outputs": [],
      "source": [
        "lambda_ = 0.1 #ortalama hata sayısı"
      ]
    },
    {
      "cell_type": "code",
      "execution_count": 34,
      "metadata": {
        "colab": {
          "base_uri": "https://localhost:8080/"
        },
        "id": "rI4weEvjnagV",
        "outputId": "a5d702c0-2f21-4727-837e-074bcacbfb23"
      },
      "outputs": [
        {
          "output_type": "stream",
          "name": "stdout",
          "text": [
            "0.9048374180359595\n",
            "0.00015080623633932676\n",
            "7.54031181696634e-08\n"
          ]
        }
      ],
      "source": [
        "rv = poisson(mu = lambda_) #poisson fonksiyonunda mu parametresine lambda değerini veriyoruz.\n",
        "\n",
        "print(rv.pmf(k = 0)) #hiç hata olmaması olasılığı\n",
        "print(rv.pmf(k = 3)) #3 hata olması olasılığı\n",
        "print(rv.pmf(k = 5)) #5 hata olması olasılığı"
      ]
    },
    {
      "cell_type": "markdown",
      "metadata": {
        "id": "tkPjk-pPnagV"
      },
      "source": [
        "## Normal Dağılım"
      ]
    },
    {
      "cell_type": "markdown",
      "metadata": {
        "id": "jS6D0piEnagV"
      },
      "source": [
        "${\\displaystyle f(x\\mid \\mu ,\\sigma ^{2})={\\frac {1}{\\sqrt {2\\pi \\sigma ^{2}}}}e^{-{\\frac {(x-\\mu )^{2}}{2\\sigma ^{2}}}}}$\n",
        "\n",
        "* $\\mu$  ortalama ya da dağılımın beklenen değeri\n",
        "\n",
        "* ${\\displaystyle \\sigma }$  standart sapma\n",
        "\n",
        "* ${\\displaystyle \\sigma ^{2}}$ varyans"
      ]
    },
    {
      "cell_type": "markdown",
      "metadata": {
        "id": "ehdRazbfnagV"
      },
      "source": [
        "### İş Uygulaması: Ürün Satış Olasılıklarının Hesaplanması"
      ]
    },
    {
      "cell_type": "code",
      "execution_count": 35,
      "metadata": {
        "id": "ZNAJMyt_nagV"
      },
      "outputs": [],
      "source": [
        "from scipy.stats import norm"
      ]
    },
    {
      "cell_type": "code",
      "execution_count": 36,
      "metadata": {
        "colab": {
          "base_uri": "https://localhost:8080/"
        },
        "id": "5OEPibranagV",
        "outputId": "167d6259-fa02-4c3f-e532-99d6d36e060b"
      },
      "outputs": [
        {
          "output_type": "execute_result",
          "data": {
            "text/plain": [
              "0.02275013194817921"
            ]
          },
          "metadata": {},
          "execution_count": 36
        }
      ],
      "source": [
        "#90'dan fazla olması olasılığı\n",
        "1-norm.cdf(90, 80, 5)\n",
        "#cdf = kümülatif yoğunluk fonksiyonu\n",
        "#cdf(hedef, ortalama, std)"
      ]
    },
    {
      "cell_type": "code",
      "execution_count": 37,
      "metadata": {
        "colab": {
          "base_uri": "https://localhost:8080/"
        },
        "id": "T4CPZ3x8nagV",
        "outputId": "115eecea-042b-4cff-fde3-43020092ae7c"
      },
      "outputs": [
        {
          "output_type": "execute_result",
          "data": {
            "text/plain": [
              "0.9772498680518208"
            ]
          },
          "metadata": {},
          "execution_count": 37
        }
      ],
      "source": [
        "#70'den fazla olması olasılığı\n",
        "1-norm.cdf(70,80,5)"
      ]
    },
    {
      "cell_type": "code",
      "execution_count": 38,
      "metadata": {
        "colab": {
          "base_uri": "https://localhost:8080/"
        },
        "id": "5Tb0iFkUnagW",
        "outputId": "940ce3e8-8bdb-4f78-eb7e-fe715b5b7cdd"
      },
      "outputs": [
        {
          "output_type": "execute_result",
          "data": {
            "text/plain": [
              "0.08075665923377107"
            ]
          },
          "metadata": {},
          "execution_count": 38
        }
      ],
      "source": [
        "#73'den az olması\n",
        "norm.cdf(73,80,5)"
      ]
    },
    {
      "cell_type": "code",
      "execution_count": 39,
      "metadata": {
        "colab": {
          "base_uri": "https://localhost:8080/"
        },
        "id": "4cM_8vvKnagW",
        "outputId": "dd9572ab-6f33-44b2-e7c9-31950097cc92"
      },
      "outputs": [
        {
          "output_type": "execute_result",
          "data": {
            "text/plain": [
              "0.13590512198327787"
            ]
          },
          "metadata": {},
          "execution_count": 39
        }
      ],
      "source": [
        "#85 ile 90 arasında olması olasılığı\n",
        "norm.cdf(90,80,5)-norm.cdf(85,80,5)"
      ]
    },
    {
      "cell_type": "markdown",
      "metadata": {
        "id": "BhEuQmp2nagW"
      },
      "source": [
        "# Tek Örneklem T Testi\n",
        "\n",
        "Örnek ortalamasına ilişkin test yapmak için kullanılır.\n",
        "\n",
        "**Hipotezler:**\n",
        "\n",
        "<d><i>H</i><sub>0</sub>: <i>μ</i> = <i>50</i></d>   \n",
        "<d><i>H</i><sub>1</sub>: <i>μ</i> ≠ <i>50</i></d><br><br>\n",
        "\n",
        "<d><i>H</i><sub>0</sub>: <i>μ</i> <= <i>50</i></d><br>\n",
        "<d><i>H</i><sub>1</sub>: <i>μ</i> > <i>50</i></d><br><br>\n",
        "\n",
        "<d><i>H</i><sub>0</sub>: <i>μ</i> >= <i>50</i></d><br>\n",
        "<d><i>H</i><sub>1</sub>: <i>μ</i> < <i>50</i></d><br><br>\n",
        "\n",
        "\n",
        "\n",
        "\n",
        "<table></table>\n",
        "\n",
        "**Test İstatistiği:**\n",
        "\n",
        "${\\displaystyle t={\\frac {{\\bar {x}}-\\mu _{0}}{\\frac {s}{\\sqrt {n}}}}}$\n"
      ]
    },
    {
      "cell_type": "markdown",
      "metadata": {
        "id": "IZB7aIxvnagW"
      },
      "source": [
        "### İş Uygulaması: Web Sitesinde Geçirilen Sürenin Testi"
      ]
    },
    {
      "cell_type": "code",
      "execution_count": 68,
      "metadata": {
        "id": "H8HRlwl1nagW"
      },
      "outputs": [],
      "source": [
        "import numpy as np\n",
        "\n",
        "olcumler = np.array([17, 160, 234, 149, 145, 107, 197, 75, 201, 225, 211, 119, \n",
        "              157, 145, 127, 244, 163, 114, 145,  65, 112, 185, 202, 146,\n",
        "              203, 224, 203, 114, 188, 156, 187, 154, 177, 95, 165, 50, 110, \n",
        "              216, 138, 151, 166, 135, 155, 84, 251, 173, 131, 207, 121, 120])"
      ]
    },
    {
      "cell_type": "code",
      "execution_count": 69,
      "metadata": {
        "colab": {
          "base_uri": "https://localhost:8080/"
        },
        "id": "3yi9l29ZnagW",
        "outputId": "f1a3a405-7090-4854-ce9e-aa06e26d8702"
      },
      "outputs": [
        {
          "output_type": "execute_result",
          "data": {
            "text/plain": [
              "array([ 17, 160, 234, 149, 145, 107, 197,  75, 201, 225])"
            ]
          },
          "metadata": {},
          "execution_count": 69
        }
      ],
      "source": [
        "olcumler[0:10]"
      ]
    },
    {
      "cell_type": "code",
      "execution_count": 70,
      "metadata": {
        "id": "y7LQf26TnagW"
      },
      "outputs": [],
      "source": [
        "import scipy.stats as stats"
      ]
    },
    {
      "cell_type": "code",
      "execution_count": 71,
      "metadata": {
        "colab": {
          "base_uri": "https://localhost:8080/"
        },
        "id": "dSaGeB6GnagX",
        "outputId": "62dc1045-5bb1-4efb-e82f-af8d8ba55cdd"
      },
      "outputs": [
        {
          "output_type": "execute_result",
          "data": {
            "text/plain": [
              "DescribeResult(nobs=50, minmax=(17, 251), mean=154.38, variance=2578.0363265306123, skewness=-0.32398897278694483, kurtosis=-0.05849823498415985)"
            ]
          },
          "metadata": {},
          "execution_count": 71
        }
      ],
      "source": [
        "stats.describe(olcumler)"
      ]
    },
    {
      "cell_type": "markdown",
      "metadata": {
        "id": "XaUN0AxtnagX"
      },
      "source": [
        "### Varsayımlarımız\n",
        "#### Normallik varsayımı"
      ]
    },
    {
      "cell_type": "code",
      "execution_count": 72,
      "metadata": {
        "colab": {
          "base_uri": "https://localhost:8080/",
          "height": 265
        },
        "id": "l23R3voVnagX",
        "outputId": "9d11e774-59c4-47fd-d443-4d48e26ab7c5"
      },
      "outputs": [
        {
          "output_type": "display_data",
          "data": {
            "text/plain": [
              "<Figure size 432x288 with 1 Axes>"
            ],
            "image/png": "[encoded data removed]"
          },
          "metadata": {
            "needs_background": "light"
          }
        }
      ],
      "source": [
        "#histogram\n",
        "import pandas as pd\n",
        "pd.DataFrame(olcumler).plot.hist();"
      ]
    },
    {
      "cell_type": "markdown",
      "metadata": {
        "id": "KqSgdUrCnagX"
      },
      "source": [
        "**qqplot**"
      ]
    },
    {
      "cell_type": "code",
      "execution_count": 73,
      "metadata": {
        "colab": {
          "base_uri": "https://localhost:8080/",
          "height": 295
        },
        "id": "_2rRMN8hnagX",
        "outputId": "2b29443e-108b-425c-babc-eeaa7fe2e095"
      },
      "outputs": [
        {
          "output_type": "display_data",
          "data": {
            "text/plain": [
              "<Figure size 432x288 with 1 Axes>"
            ],
            "image/png": "[encoded data removed]"
          },
          "metadata": {
            "needs_background": "light"
          }
        }
      ],
      "source": [
        "##qqplot\n",
        "import pylab\n",
        "stats.probplot(olcumler, dist=\"norm\", plot=pylab)\n",
        "pylab.show()"
      ]
    },
    {
      "cell_type": "markdown",
      "metadata": {
        "id": "xJxJ3f6Wnaga"
      },
      "source": [
        "**Shapiro-Wilks Testi**"
      ]
    },
    {
      "cell_type": "markdown",
      "metadata": {
        "id": "8Ax3Dakhnaga"
      },
      "source": [
        "**H0:** Örnek dağılımı ile teorik normal dağılım arasında istatistiksel olarak anlamlı bir farklılık yoktur.  \n",
        "**H1:** Örnek dağılımı ile teorik normal dağılım arasında istatistiksel olarak anlamlı bir farklılık vardır."
      ]
    },
    {
      "cell_type": "code",
      "execution_count": 74,
      "metadata": {
        "id": "mqFk2Uuenagb"
      },
      "outputs": [],
      "source": [
        "from scipy.stats import shapiro"
      ]
    },
    {
      "cell_type": "code",
      "execution_count": 75,
      "metadata": {
        "colab": {
          "base_uri": "https://localhost:8080/"
        },
        "id": "5zBv5N54nagb",
        "outputId": "120f362d-a16b-4ed0-c5a7-d23d28ed4a7d"
      },
      "outputs": [
        {
          "output_type": "execute_result",
          "data": {
            "text/plain": [
              "(0.9853105545043945, 0.7848747968673706)"
            ]
          },
          "metadata": {},
          "execution_count": 75
        }
      ],
      "source": [
        "shapiro(olcumler)"
      ]
    },
    {
      "cell_type": "markdown",
      "metadata": {
        "id": "es5oxYnbnagb"
      },
      "source": [
        "Sol tarafta görmüş olduğumuz değer test istatistiğini ifade ediyor,  \n",
        "sağ tarafta görmüş olduğumuz değer ise p-value değerini ifade ediyor.\n",
        "\n",
        "p-value değerimiz 0.05(alpha)'dan büyük olduğundan **H0** hipotezi reddedilemez."
      ]
    },
    {
      "cell_type": "code",
      "execution_count": 76,
      "metadata": {
        "colab": {
          "base_uri": "https://localhost:8080/"
        },
        "id": "yCnKa_y9nagb",
        "outputId": "71334d3c-0c59-4942-d052-30622d16e8c3"
      },
      "outputs": [
        {
          "output_type": "stream",
          "name": "stdout",
          "text": [
            "T Hesap İstatistiği: 0.9853105545043945\n",
            "Hesaplanan p-value: 0.7848747968673706\n"
          ]
        }
      ],
      "source": [
        "print(\"T Hesap İstatistiği: \"+str(shapiro(olcumler)[0]))\n",
        "print(\"Hesaplanan p-value: \"+str(shapiro(olcumler)[1]))"
      ]
    },
    {
      "cell_type": "markdown",
      "metadata": {
        "id": "16grJFlTnagb"
      },
      "source": [
        "#### **Tek Örneklem T Testi Uygulaması**"
      ]
    },
    {
      "cell_type": "code",
      "execution_count": 77,
      "metadata": {
        "colab": {
          "base_uri": "https://localhost:8080/"
        },
        "id": "I8qxJCGEnagb",
        "outputId": "a897b3d5-dd4a-4329-9b91-74424581338e"
      },
      "outputs": [
        {
          "output_type": "execute_result",
          "data": {
            "text/plain": [
              "Ttest_1sampResult(statistic=-2.1753117985877966, pvalue=0.034460415195071446)"
            ]
          },
          "metadata": {},
          "execution_count": 77
        }
      ],
      "source": [
        "#populasyon ortalamamiz gercekten 170 mi?\n",
        "stats.ttest_1samp(olcumler, popmean=170)"
      ]
    },
    {
      "cell_type": "markdown",
      "metadata": {
        "id": "0SaQaeypnagc"
      },
      "source": [
        "**H0**: Web sitemizde geçirilen ortalama süre 170 saniyedir.  \n",
        "**H1**: Web sitemizde geçirilen ortalama süre 170 saniye değildir.\n",
        "\n",
        "**pvalue** değerimiz de 0.03 yani 0.05'den küçük olduğundan **H0** hipotezi reddedilir.  \n"
      ]
    },
    {
      "cell_type": "markdown",
      "metadata": {
        "id": "D1sjmJ6Knagc"
      },
      "source": [
        "### **Nonparametrik Tek Örneklem Testi**"
      ]
    },
    {
      "cell_type": "code",
      "execution_count": 78,
      "metadata": {
        "id": "YX41Vitpnagc"
      },
      "outputs": [],
      "source": [
        "from statsmodels.stats.descriptivestats import sign_test"
      ]
    },
    {
      "cell_type": "code",
      "execution_count": 79,
      "metadata": {
        "colab": {
          "base_uri": "https://localhost:8080/"
        },
        "id": "0IsuchJpnagc",
        "outputId": "523e8698-2099-45b4-b3a1-fcd78703d380"
      },
      "outputs": [
        {
          "output_type": "execute_result",
          "data": {
            "text/plain": [
              "(-7.0, 0.06490864707227219)"
            ]
          },
          "metadata": {},
          "execution_count": 79
        }
      ],
      "source": [
        "sign_test(olcumler, 170)"
      ]
    },
    {
      "cell_type": "markdown",
      "metadata": {
        "id": "djZmKrD0nagc"
      },
      "source": [
        "### **Tek Örneklem Oran Testi**"
      ]
    },
    {
      "cell_type": "markdown",
      "metadata": {
        "id": "cTM6ujk2nagc"
      },
      "source": [
        "Oransal bir ifade test edilmek istenildiğinde kullanılır.  \n"
      ]
    },
    {
      "cell_type": "markdown",
      "metadata": {
        "id": "aStCpRPwnagd"
      },
      "source": [
        "#### **İş Uygulaması: Dönüşüm Oranı Testi**"
      ]
    },
    {
      "cell_type": "markdown",
      "metadata": {
        "id": "xAcq5Ab7nagd"
      },
      "source": [
        "HO: p = 0.125 \n",
        "\n",
        "H1: p != 0.125"
      ]
    },
    {
      "cell_type": "code",
      "execution_count": 80,
      "metadata": {
        "id": "3Vl9DYbDnagd"
      },
      "outputs": [],
      "source": [
        "from statsmodels.stats.proportion import proportions_ztest"
      ]
    },
    {
      "cell_type": "code",
      "execution_count": 81,
      "metadata": {
        "id": "Ty6BBQY0nagd"
      },
      "outputs": [],
      "source": [
        "count = 40 #başarı sayısı\n",
        "nobs = 500 #gözlem sayısı\n",
        "value = 0.125 #test etmek istediğimiz oran"
      ]
    },
    {
      "cell_type": "code",
      "execution_count": 82,
      "metadata": {
        "colab": {
          "base_uri": "https://localhost:8080/"
        },
        "id": "OMgMiXftnagd",
        "outputId": "a3dbbf81-6359-4122-928e-ce3e83da5b2c"
      },
      "outputs": [
        {
          "output_type": "execute_result",
          "data": {
            "text/plain": [
              "(-3.7090151628513017, 0.0002080669689845979)"
            ]
          },
          "metadata": {},
          "execution_count": 82
        }
      ],
      "source": [
        "proportions_ztest(count, nobs, value)"
      ]
    },
    {
      "cell_type": "markdown",
      "metadata": {
        "id": "gm19B1Mbnagd"
      },
      "source": [
        "Burada p-value değerimiz (0.0002) < 0.05 olduğundan H0 hipotezimizi reddediyoruz.  \n",
        "%95 güven ile 0.125 değerinin yanlış olduğunu söyleyebiliriz."
      ]
    },
    {
      "cell_type": "markdown",
      "metadata": {
        "id": "WabYjrGjnage"
      },
      "source": [
        "## **Bağımsız İki Örneklem T Testi (AB Testi)**"
      ]
    },
    {
      "cell_type": "markdown",
      "metadata": {
        "id": "f1EMDtZBnage"
      },
      "source": [
        "#### **İş Uygulaması: ML Modelinin Başarı Testi**"
      ]
    },
    {
      "cell_type": "markdown",
      "metadata": {
        "id": "-mvB5540nage"
      },
      "source": [
        "H0: M1 = M2 \n",
        "\n",
        "H1: M1 != M2"
      ]
    },
    {
      "cell_type": "markdown",
      "metadata": {
        "id": "jR5-B4g4nage"
      },
      "source": [
        "**Veri Tipi 1**"
      ]
    },
    {
      "cell_type": "code",
      "execution_count": 83,
      "metadata": {
        "colab": {
          "base_uri": "https://localhost:8080/",
          "height": 206
        },
        "id": "RLT8lNKonage",
        "outputId": "94bec4c1-868e-41ac-aca8-ca4f87c9c4f4"
      },
      "outputs": [
        {
          "output_type": "execute_result",
          "data": {
            "text/plain": [
              "    A   B\n",
              "0  30  37\n",
              "1  27  39\n",
              "2  21  31\n",
              "3  27  31\n",
              "4  29  34"
            ],
            "text/html": [
              "\n",
              "  <div id=\"df-9ab12eff-a7f8-4bba-a643-9988ecd5220a\">\n",
              "    <div class=\"colab-df-container\">\n",
              "      <div>\n",
              "<style scoped>\n",
              "    .dataframe tbody tr th:only-of-type {\n",
              "        vertical-align: middle;\n",
              "    }\n",
              "\n",
              "    .dataframe tbody tr th {\n",
              "        vertical-align: top;\n",
              "    }\n",
              "\n",
              "    .dataframe thead th {\n",
              "        text-align: right;\n",
              "    }\n",
              "</style>\n",
              "<table border=\"1\" class=\"dataframe\">\n",
              "  <thead>\n",
              "    <tr style=\"text-align: right;\">\n",
              "      <th></th>\n",
              "      <th>A</th>\n",
              "      <th>B</th>\n",
              "    </tr>\n",
              "  </thead>\n",
              "  <tbody>\n",
              "    <tr>\n",
              "      <th>0</th>\n",
              "      <td>30</td>\n",
              "      <td>37</td>\n",
              "    </tr>\n",
              "    <tr>\n",
              "      <th>1</th>\n",
              "      <td>27</td>\n",
              "      <td>39</td>\n",
              "    </tr>\n",
              "    <tr>\n",
              "      <th>2</th>\n",
              "      <td>21</td>\n",
              "      <td>31</td>\n",
              "    </tr>\n",
              "    <tr>\n",
              "      <th>3</th>\n",
              "      <td>27</td>\n",
              "      <td>31</td>\n",
              "    </tr>\n",
              "    <tr>\n",
              "      <th>4</th>\n",
              "      <td>29</td>\n",
              "      <td>34</td>\n",
              "    </tr>\n",
              "  </tbody>\n",
              "</table>\n",
              "</div>\n",
              "      <button class=\"colab-df-convert\" onclick=\"convertToInteractive('df-9ab12eff-a7f8-4bba-a643-9988ecd5220a')\"\n",
              "              title=\"Convert this dataframe to an interactive table.\"\n",
              "              style=\"display:none;\">\n",
              "        \n",
              "  <svg xmlns=\"http://www.w3.org/2000/svg\" height=\"24px\"viewBox=\"0 0 24 24\"\n",
              "       width=\"24px\">\n",
              "    <path d=\"M0 0h24v24H0V0z\" fill=\"none\"/>\n",
              "    <path d=\"M18.56 5.44l.94 2.06.94-2.06 2.06-.94-2.06-.94-.94-2.06-.94 2.06-2.06.94zm-11 1L8.5 8.5l.94-2.06 2.06-.94-2.06-.94L8.5 2.5l-.94 2.06-2.06.94zm10 10l.94 2.06.94-2.06 2.06-.94-2.06-.94-.94-2.06-.94 2.06-2.06.94z\"/><path d=\"M17.41 7.96l-1.37-1.37c-.4-.4-.92-.59-1.43-.59-.52 0-1.04.2-1.43.59L10.3 9.45l-7.72 7.72c-.78.78-.78 2.05 0 2.83L4 21.41c.39.39.9.59 1.41.59.51 0 1.02-.2 1.41-.59l7.78-7.78 2.81-2.81c.8-.78.8-2.07 0-2.86zM5.41 20L4 18.59l7.72-7.72 1.47 1.35L5.41 20z\"/>\n",
              "  </svg>\n",
              "      </button>\n",
              "      \n",
              "  <style>\n",
              "    .colab-df-container {\n",
              "      display:flex;\n",
              "      flex-wrap:wrap;\n",
              "      gap: 12px;\n",
              "    }\n",
              "\n",
              "    .colab-df-convert {\n",
              "      background-color: #E8F0FE;\n",
              "      border: none;\n",
              "      border-radius: 50%;\n",
              "      cursor: pointer;\n",
              "      display: none;\n",
              "      fill: #1967D2;\n",
              "      height: 32px;\n",
              "      padding: 0 0 0 0;\n",
              "      width: 32px;\n",
              "    }\n",
              "\n",
              "    .colab-df-convert:hover {\n",
              "      background-color: #E2EBFA;\n",
              "      box-shadow: 0px 1px 2px rgba(60, 64, 67, 0.3), 0px 1px 3px 1px rgba(60, 64, 67, 0.15);\n",
              "      fill: #174EA6;\n",
              "    }\n",
              "\n",
              "    [theme=dark] .colab-df-convert {\n",
              "      background-color: #3B4455;\n",
              "      fill: #D2E3FC;\n",
              "    }\n",
              "\n",
              "    [theme=dark] .colab-df-convert:hover {\n",
              "      background-color: #434B5C;\n",
              "      box-shadow: 0px 1px 3px 1px rgba(0, 0, 0, 0.15);\n",
              "      filter: drop-shadow(0px 1px 2px rgba(0, 0, 0, 0.3));\n",
              "      fill: #FFFFFF;\n",
              "    }\n",
              "  </style>\n",
              "\n",
              "      <script>\n",
              "        const buttonEl =\n",
              "          document.querySelector('#df-9ab12eff-a7f8-4bba-a643-9988ecd5220a button.colab-df-convert');\n",
              "        buttonEl.style.display =\n",
              "          google.colab.kernel.accessAllowed ? 'block' : 'none';\n",
              "\n",
              "        async function convertToInteractive(key) {\n",
              "          const element = document.querySelector('#df-9ab12eff-a7f8-4bba-a643-9988ecd5220a');\n",
              "          const dataTable =\n",
              "            await google.colab.kernel.invokeFunction('convertToInteractive',\n",
              "                                                     [key], {});\n",
              "          if (!dataTable) return;\n",
              "\n",
              "          const docLinkHtml = 'Like what you see? Visit the ' +\n",
              "            '<a target=\"_blank\" href=https://colab.research.google.com/notebooks/data_table.ipynb>data table notebook</a>'\n",
              "            + ' to learn more about interactive tables.';\n",
              "          element.innerHTML = '';\n",
              "          dataTable['output_type'] = 'display_data';\n",
              "          await google.colab.output.renderOutput(dataTable, element);\n",
              "          const docLink = document.createElement('div');\n",
              "          docLink.innerHTML = docLinkHtml;\n",
              "          element.appendChild(docLink);\n",
              "        }\n",
              "      </script>\n",
              "    </div>\n",
              "  </div>\n",
              "  "
            ]
          },
          "metadata": {},
          "execution_count": 83
        }
      ],
      "source": [
        "import pandas as pd\n",
        "A = pd.DataFrame([30,27,21,27,29,30,20,20,27,32,35,22,24,23,25,27,23,27,23,\n",
        "        25,21,18,24,26,33,26,27,28,19,25])\n",
        "\n",
        "B = pd.DataFrame([37,39,31,31,34,38,30,36,29,28,38,28,37,37,30,32,31,31,27,\n",
        "        32,33,33,33,31,32,33,26,32,33,29])\n",
        "\n",
        "A_B = pd.concat([A, B], axis=1)\n",
        "A_B.columns = [\"A\", \"B\"]\n",
        "\n",
        "A_B.head()"
      ]
    },
    {
      "cell_type": "markdown",
      "metadata": {
        "id": "gg8GwYcSnage"
      },
      "source": [
        "**Veri Tipi 2**"
      ]
    },
    {
      "cell_type": "code",
      "execution_count": 84,
      "metadata": {
        "colab": {
          "base_uri": "https://localhost:8080/"
        },
        "id": "liRsz5ZPnage",
        "outputId": "5df44752-c16b-4398-8ee4-c3bf653aadf1"
      },
      "outputs": [
        {
          "output_type": "stream",
          "name": "stdout",
          "text": [
            "   gelir Grup\n",
            "0     30    A\n",
            "1     27    A\n",
            "2     21    A\n",
            "3     27    A\n",
            "4     29    A\n",
            "    gelir Grup\n",
            "25     33    B\n",
            "26     26    B\n",
            "27     32    B\n",
            "28     33    B\n",
            "29     29    B\n"
          ]
        }
      ],
      "source": [
        "import numpy as np\n",
        "A = pd.DataFrame([30,27,21,27,29,30,20,20,27,32,35,22,24,23,25,27,23,27,23,\n",
        "        25,21,18,24,26,33,26,27,28,19,25])\n",
        "\n",
        "B = pd.DataFrame([37,39,31,31,34,38,30,36,29,28,38,28,37,37,30,32,31,31,27,\n",
        "        32,33,33,33,31,32,33,26,32,33,29])\n",
        "\n",
        "#A ve A'nın grubu\n",
        "Grup_A = np.arange(len(A))\n",
        "Grup_A = pd.DataFrame(Grup_A)\n",
        "Grup_A[:] = \"A\"\n",
        "A = pd.concat([A, Grup_A], axis = 1)\n",
        "\n",
        "#B ve B'nin grubu\n",
        "Grup_B = np.arange(len(B))\n",
        "Grup_B = pd.DataFrame(Grup_B)\n",
        "Grup_B[:] = \"B\"\n",
        "B = pd.concat([B, Grup_B], axis = 1)\n",
        "\n",
        "#Tum veri\n",
        "AB = pd.concat([A,B])\n",
        "AB.columns = [\"gelir\", \"Grup\"]\n",
        "print(AB.head())\n",
        "print(AB.tail())"
      ]
    },
    {
      "cell_type": "code",
      "execution_count": 85,
      "metadata": {
        "colab": {
          "base_uri": "https://localhost:8080/",
          "height": 300
        },
        "id": "1VNOft37nagf",
        "outputId": "26a6ac2b-10cf-45c0-a969-d4eb636a0c8e"
      },
      "outputs": [
        {
          "output_type": "execute_result",
          "data": {
            "text/plain": [
              "<matplotlib.axes._subplots.AxesSubplot at 0x7fae6de17c50>"
            ]
          },
          "metadata": {},
          "execution_count": 85
        },
        {
          "output_type": "display_data",
          "data": {
            "text/plain": [
              "<Figure size 432x288 with 1 Axes>"
            ],
            "image/png": "[encoded data removed]"
          },
          "metadata": {
            "needs_background": "light"
          }
        }
      ],
      "source": [
        "import seaborn as sns\n",
        "sns.boxplot(x=\"Grup\", y=\"gelir\", data=AB)"
      ]
    },
    {
      "cell_type": "markdown",
      "metadata": {
        "id": "Q7skpSvCnagf"
      },
      "source": [
        "#### **Varsayım Kontrolü**"
      ]
    },
    {
      "cell_type": "code",
      "execution_count": 58,
      "metadata": {
        "colab": {
          "base_uri": "https://localhost:8080/",
          "height": 206
        },
        "id": "ML-qWHTGnagf",
        "outputId": "4f014f10-73d1-4354-f33e-f724703ff135"
      },
      "outputs": [
        {
          "output_type": "execute_result",
          "data": {
            "text/plain": [
              "    A   B\n",
              "0  30  37\n",
              "1  27  39\n",
              "2  21  31\n",
              "3  27  31\n",
              "4  29  34"
            ],
            "text/html": [
              "\n",
              "  <div id=\"df-9b0d1dee-3314-4001-881f-ec73b22afab3\">\n",
              "    <div class=\"colab-df-container\">\n",
              "      <div>\n",
              "<style scoped>\n",
              "    .dataframe tbody tr th:only-of-type {\n",
              "        vertical-align: middle;\n",
              "    }\n",
              "\n",
              "    .dataframe tbody tr th {\n",
              "        vertical-align: top;\n",
              "    }\n",
              "\n",
              "    .dataframe thead th {\n",
              "        text-align: right;\n",
              "    }\n",
              "</style>\n",
              "<table border=\"1\" class=\"dataframe\">\n",
              "  <thead>\n",
              "    <tr style=\"text-align: right;\">\n",
              "      <th></th>\n",
              "      <th>A</th>\n",
              "      <th>B</th>\n",
              "    </tr>\n",
              "  </thead>\n",
              "  <tbody>\n",
              "    <tr>\n",
              "      <th>0</th>\n",
              "      <td>30</td>\n",
              "      <td>37</td>\n",
              "    </tr>\n",
              "    <tr>\n",
              "      <th>1</th>\n",
              "      <td>27</td>\n",
              "      <td>39</td>\n",
              "    </tr>\n",
              "    <tr>\n",
              "      <th>2</th>\n",
              "      <td>21</td>\n",
              "      <td>31</td>\n",
              "    </tr>\n",
              "    <tr>\n",
              "      <th>3</th>\n",
              "      <td>27</td>\n",
              "      <td>31</td>\n",
              "    </tr>\n",
              "    <tr>\n",
              "      <th>4</th>\n",
              "      <td>29</td>\n",
              "      <td>34</td>\n",
              "    </tr>\n",
              "  </tbody>\n",
              "</table>\n",
              "</div>\n",
              "      <button class=\"colab-df-convert\" onclick=\"convertToInteractive('df-9b0d1dee-3314-4001-881f-ec73b22afab3')\"\n",
              "              title=\"Convert this dataframe to an interactive table.\"\n",
              "              style=\"display:none;\">\n",
              "        \n",
              "  <svg xmlns=\"http://www.w3.org/2000/svg\" height=\"24px\"viewBox=\"0 0 24 24\"\n",
              "       width=\"24px\">\n",
              "    <path d=\"M0 0h24v24H0V0z\" fill=\"none\"/>\n",
              "    <path d=\"M18.56 5.44l.94 2.06.94-2.06 2.06-.94-2.06-.94-.94-2.06-.94 2.06-2.06.94zm-11 1L8.5 8.5l.94-2.06 2.06-.94-2.06-.94L8.5 2.5l-.94 2.06-2.06.94zm10 10l.94 2.06.94-2.06 2.06-.94-2.06-.94-.94-2.06-.94 2.06-2.06.94z\"/><path d=\"M17.41 7.96l-1.37-1.37c-.4-.4-.92-.59-1.43-.59-.52 0-1.04.2-1.43.59L10.3 9.45l-7.72 7.72c-.78.78-.78 2.05 0 2.83L4 21.41c.39.39.9.59 1.41.59.51 0 1.02-.2 1.41-.59l7.78-7.78 2.81-2.81c.8-.78.8-2.07 0-2.86zM5.41 20L4 18.59l7.72-7.72 1.47 1.35L5.41 20z\"/>\n",
              "  </svg>\n",
              "      </button>\n",
              "      \n",
              "  <style>\n",
              "    .colab-df-container {\n",
              "      display:flex;\n",
              "      flex-wrap:wrap;\n",
              "      gap: 12px;\n",
              "    }\n",
              "\n",
              "    .colab-df-convert {\n",
              "      background-color: #E8F0FE;\n",
              "      border: none;\n",
              "      border-radius: 50%;\n",
              "      cursor: pointer;\n",
              "      display: none;\n",
              "      fill: #1967D2;\n",
              "      height: 32px;\n",
              "      padding: 0 0 0 0;\n",
              "      width: 32px;\n",
              "    }\n",
              "\n",
              "    .colab-df-convert:hover {\n",
              "      background-color: #E2EBFA;\n",
              "      box-shadow: 0px 1px 2px rgba(60, 64, 67, 0.3), 0px 1px 3px 1px rgba(60, 64, 67, 0.15);\n",
              "      fill: #174EA6;\n",
              "    }\n",
              "\n",
              "    [theme=dark] .colab-df-convert {\n",
              "      background-color: #3B4455;\n",
              "      fill: #D2E3FC;\n",
              "    }\n",
              "\n",
              "    [theme=dark] .colab-df-convert:hover {\n",
              "      background-color: #434B5C;\n",
              "      box-shadow: 0px 1px 3px 1px rgba(0, 0, 0, 0.15);\n",
              "      filter: drop-shadow(0px 1px 2px rgba(0, 0, 0, 0.3));\n",
              "      fill: #FFFFFF;\n",
              "    }\n",
              "  </style>\n",
              "\n",
              "      <script>\n",
              "        const buttonEl =\n",
              "          document.querySelector('#df-9b0d1dee-3314-4001-881f-ec73b22afab3 button.colab-df-convert');\n",
              "        buttonEl.style.display =\n",
              "          google.colab.kernel.accessAllowed ? 'block' : 'none';\n",
              "\n",
              "        async function convertToInteractive(key) {\n",
              "          const element = document.querySelector('#df-9b0d1dee-3314-4001-881f-ec73b22afab3');\n",
              "          const dataTable =\n",
              "            await google.colab.kernel.invokeFunction('convertToInteractive',\n",
              "                                                     [key], {});\n",
              "          if (!dataTable) return;\n",
              "\n",
              "          const docLinkHtml = 'Like what you see? Visit the ' +\n",
              "            '<a target=\"_blank\" href=https://colab.research.google.com/notebooks/data_table.ipynb>data table notebook</a>'\n",
              "            + ' to learn more about interactive tables.';\n",
              "          element.innerHTML = '';\n",
              "          dataTable['output_type'] = 'display_data';\n",
              "          await google.colab.output.renderOutput(dataTable, element);\n",
              "          const docLink = document.createElement('div');\n",
              "          docLink.innerHTML = docLinkHtml;\n",
              "          element.appendChild(docLink);\n",
              "        }\n",
              "      </script>\n",
              "    </div>\n",
              "  </div>\n",
              "  "
            ]
          },
          "metadata": {},
          "execution_count": 58
        }
      ],
      "source": [
        "A_B.head()"
      ]
    },
    {
      "cell_type": "code",
      "execution_count": 59,
      "metadata": {
        "colab": {
          "base_uri": "https://localhost:8080/",
          "height": 206
        },
        "id": "IkELoRTvnagf",
        "outputId": "31132e5a-e298-4944-a309-44a3a29f334d"
      },
      "outputs": [
        {
          "output_type": "execute_result",
          "data": {
            "text/plain": [
              "   gelir Grup\n",
              "0     30    A\n",
              "1     27    A\n",
              "2     21    A\n",
              "3     27    A\n",
              "4     29    A"
            ],
            "text/html": [
              "\n",
              "  <div id=\"df-1387a6a2-aebe-466b-8579-bce44f82dce6\">\n",
              "    <div class=\"colab-df-container\">\n",
              "      <div>\n",
              "<style scoped>\n",
              "    .dataframe tbody tr th:only-of-type {\n",
              "        vertical-align: middle;\n",
              "    }\n",
              "\n",
              "    .dataframe tbody tr th {\n",
              "        vertical-align: top;\n",
              "    }\n",
              "\n",
              "    .dataframe thead th {\n",
              "        text-align: right;\n",
              "    }\n",
              "</style>\n",
              "<table border=\"1\" class=\"dataframe\">\n",
              "  <thead>\n",
              "    <tr style=\"text-align: right;\">\n",
              "      <th></th>\n",
              "      <th>gelir</th>\n",
              "      <th>Grup</th>\n",
              "    </tr>\n",
              "  </thead>\n",
              "  <tbody>\n",
              "    <tr>\n",
              "      <th>0</th>\n",
              "      <td>30</td>\n",
              "      <td>A</td>\n",
              "    </tr>\n",
              "    <tr>\n",
              "      <th>1</th>\n",
              "      <td>27</td>\n",
              "      <td>A</td>\n",
              "    </tr>\n",
              "    <tr>\n",
              "      <th>2</th>\n",
              "      <td>21</td>\n",
              "      <td>A</td>\n",
              "    </tr>\n",
              "    <tr>\n",
              "      <th>3</th>\n",
              "      <td>27</td>\n",
              "      <td>A</td>\n",
              "    </tr>\n",
              "    <tr>\n",
              "      <th>4</th>\n",
              "      <td>29</td>\n",
              "      <td>A</td>\n",
              "    </tr>\n",
              "  </tbody>\n",
              "</table>\n",
              "</div>\n",
              "      <button class=\"colab-df-convert\" onclick=\"convertToInteractive('df-1387a6a2-aebe-466b-8579-bce44f82dce6')\"\n",
              "              title=\"Convert this dataframe to an interactive table.\"\n",
              "              style=\"display:none;\">\n",
              "        \n",
              "  <svg xmlns=\"http://www.w3.org/2000/svg\" height=\"24px\"viewBox=\"0 0 24 24\"\n",
              "       width=\"24px\">\n",
              "    <path d=\"M0 0h24v24H0V0z\" fill=\"none\"/>\n",
              "    <path d=\"M18.56 5.44l.94 2.06.94-2.06 2.06-.94-2.06-.94-.94-2.06-.94 2.06-2.06.94zm-11 1L8.5 8.5l.94-2.06 2.06-.94-2.06-.94L8.5 2.5l-.94 2.06-2.06.94zm10 10l.94 2.06.94-2.06 2.06-.94-2.06-.94-.94-2.06-.94 2.06-2.06.94z\"/><path d=\"M17.41 7.96l-1.37-1.37c-.4-.4-.92-.59-1.43-.59-.52 0-1.04.2-1.43.59L10.3 9.45l-7.72 7.72c-.78.78-.78 2.05 0 2.83L4 21.41c.39.39.9.59 1.41.59.51 0 1.02-.2 1.41-.59l7.78-7.78 2.81-2.81c.8-.78.8-2.07 0-2.86zM5.41 20L4 18.59l7.72-7.72 1.47 1.35L5.41 20z\"/>\n",
              "  </svg>\n",
              "      </button>\n",
              "      \n",
              "  <style>\n",
              "    .colab-df-container {\n",
              "      display:flex;\n",
              "      flex-wrap:wrap;\n",
              "      gap: 12px;\n",
              "    }\n",
              "\n",
              "    .colab-df-convert {\n",
              "      background-color: #E8F0FE;\n",
              "      border: none;\n",
              "      border-radius: 50%;\n",
              "      cursor: pointer;\n",
              "      display: none;\n",
              "      fill: #1967D2;\n",
              "      height: 32px;\n",
              "      padding: 0 0 0 0;\n",
              "      width: 32px;\n",
              "    }\n",
              "\n",
              "    .colab-df-convert:hover {\n",
              "      background-color: #E2EBFA;\n",
              "      box-shadow: 0px 1px 2px rgba(60, 64, 67, 0.3), 0px 1px 3px 1px rgba(60, 64, 67, 0.15);\n",
              "      fill: #174EA6;\n",
              "    }\n",
              "\n",
              "    [theme=dark] .colab-df-convert {\n",
              "      background-color: #3B4455;\n",
              "      fill: #D2E3FC;\n",
              "    }\n",
              "\n",
              "    [theme=dark] .colab-df-convert:hover {\n",
              "      background-color: #434B5C;\n",
              "      box-shadow: 0px 1px 3px 1px rgba(0, 0, 0, 0.15);\n",
              "      filter: drop-shadow(0px 1px 2px rgba(0, 0, 0, 0.3));\n",
              "      fill: #FFFFFF;\n",
              "    }\n",
              "  </style>\n",
              "\n",
              "      <script>\n",
              "        const buttonEl =\n",
              "          document.querySelector('#df-1387a6a2-aebe-466b-8579-bce44f82dce6 button.colab-df-convert');\n",
              "        buttonEl.style.display =\n",
              "          google.colab.kernel.accessAllowed ? 'block' : 'none';\n",
              "\n",
              "        async function convertToInteractive(key) {\n",
              "          const element = document.querySelector('#df-1387a6a2-aebe-466b-8579-bce44f82dce6');\n",
              "          const dataTable =\n",
              "            await google.colab.kernel.invokeFunction('convertToInteractive',\n",
              "                                                     [key], {});\n",
              "          if (!dataTable) return;\n",
              "\n",
              "          const docLinkHtml = 'Like what you see? Visit the ' +\n",
              "            '<a target=\"_blank\" href=https://colab.research.google.com/notebooks/data_table.ipynb>data table notebook</a>'\n",
              "            + ' to learn more about interactive tables.';\n",
              "          element.innerHTML = '';\n",
              "          dataTable['output_type'] = 'display_data';\n",
              "          await google.colab.output.renderOutput(dataTable, element);\n",
              "          const docLink = document.createElement('div');\n",
              "          docLink.innerHTML = docLinkHtml;\n",
              "          element.appendChild(docLink);\n",
              "        }\n",
              "      </script>\n",
              "    </div>\n",
              "  </div>\n",
              "  "
            ]
          },
          "metadata": {},
          "execution_count": 59
        }
      ],
      "source": [
        "AB.head()"
      ]
    },
    {
      "cell_type": "markdown",
      "metadata": {
        "id": "vDSSny9xnagf"
      },
      "source": [
        "**Normallik Varsayımı**"
      ]
    },
    {
      "cell_type": "code",
      "execution_count": 60,
      "metadata": {
        "id": "02XWZggYnagf"
      },
      "outputs": [],
      "source": [
        "from scipy.stats import shapiro"
      ]
    },
    {
      "cell_type": "code",
      "execution_count": 61,
      "metadata": {
        "colab": {
          "base_uri": "https://localhost:8080/"
        },
        "id": "OY54ap5qnagg",
        "outputId": "d024a542-e5ec-4ae0-8983-008541fcc0cf"
      },
      "outputs": [
        {
          "output_type": "execute_result",
          "data": {
            "text/plain": [
              "(0.9789242148399353, 0.7962799668312073)"
            ]
          },
          "metadata": {},
          "execution_count": 61
        }
      ],
      "source": [
        "shapiro(A_B.A)"
      ]
    },
    {
      "cell_type": "code",
      "execution_count": 62,
      "metadata": {
        "colab": {
          "base_uri": "https://localhost:8080/"
        },
        "id": "FXtTsZ7Hnagg",
        "outputId": "1ab753eb-58e4-49f3-cac0-36d3527e1e16"
      },
      "outputs": [
        {
          "output_type": "execute_result",
          "data": {
            "text/plain": [
              "(0.9561261534690857, 0.2458445429801941)"
            ]
          },
          "metadata": {},
          "execution_count": 62
        }
      ],
      "source": [
        "shapiro(A_B.B)"
      ]
    },
    {
      "cell_type": "markdown",
      "metadata": {
        "id": "Wj_rFb4gnagg"
      },
      "source": [
        "**Varyans Homojenliği Varsayımı**"
      ]
    },
    {
      "cell_type": "markdown",
      "metadata": {
        "id": "RS-G-MLRnagg"
      },
      "source": [
        "**H0:** Varyanslar Homojendir  \n",
        "**H1:** Varyanslar Homojen Değildir"
      ]
    },
    {
      "cell_type": "code",
      "execution_count": 63,
      "metadata": {
        "colab": {
          "base_uri": "https://localhost:8080/"
        },
        "id": "eGZdrEuCnagg",
        "outputId": "5bf6c8e5-6e27-42f0-971a-d7850ebf3d99"
      },
      "outputs": [
        {
          "output_type": "execute_result",
          "data": {
            "text/plain": [
              "LeveneResult(statistic=1.1101802757158004, pvalue=0.2964124900636569)"
            ]
          },
          "metadata": {},
          "execution_count": 63
        }
      ],
      "source": [
        "from scipy import stats\n",
        "stats.levene(A_B.A, A_B.B)"
      ]
    },
    {
      "cell_type": "markdown",
      "metadata": {
        "id": "pX7IxG21nagg"
      },
      "source": [
        "### **Bağımsız İki Örneklem T Testi Uygulama**"
      ]
    },
    {
      "cell_type": "markdown",
      "metadata": {
        "id": "vX67ZlDJnagh"
      },
      "source": [
        "**Hipotez Testi**"
      ]
    },
    {
      "cell_type": "code",
      "execution_count": 64,
      "metadata": {
        "colab": {
          "base_uri": "https://localhost:8080/"
        },
        "id": "I6Cr3LOknagh",
        "outputId": "1c799a44-efdc-4f5d-bfe8-463ea541bc94"
      },
      "outputs": [
        {
          "output_type": "execute_result",
          "data": {
            "text/plain": [
              "Ttest_indResult(statistic=-7.028690967745927, pvalue=2.6233215605475075e-09)"
            ]
          },
          "metadata": {},
          "execution_count": 64
        }
      ],
      "source": [
        "stats.ttest_ind(A_B[\"A\"], A_B[\"B\"], equal_var = True)"
      ]
    },
    {
      "cell_type": "code",
      "execution_count": 65,
      "metadata": {
        "colab": {
          "base_uri": "https://localhost:8080/"
        },
        "id": "O9iQCPGnnagh",
        "outputId": "df3c3a31-d0b7-471f-8551-09f676ea7069"
      },
      "outputs": [
        {
          "output_type": "stream",
          "name": "stdout",
          "text": [
            "Test İstatistiği = -7.0287, p-değeri = 0.0000\n"
          ]
        }
      ],
      "source": [
        "test_istatistigi, pvalue = stats.ttest_ind(A_B[\"A\"], A_B[\"B\"], equal_var=True)\n",
        "print('Test İstatistiği = %.4f, p-değeri = %.4f' % (test_istatistigi, pvalue))"
      ]
    },
    {
      "cell_type": "markdown",
      "metadata": {
        "id": "hOJ_TiG3nagh"
      },
      "source": [
        "## Nonparametrik Bağımsız İki Örneklem Testi"
      ]
    },
    {
      "cell_type": "code",
      "execution_count": 66,
      "metadata": {
        "colab": {
          "base_uri": "https://localhost:8080/"
        },
        "id": "tp_9zb8Anagh",
        "outputId": "d6d2a5da-7724-4085-828d-e98773527f5c"
      },
      "outputs": [
        {
          "output_type": "execute_result",
          "data": {
            "text/plain": [
              "MannwhitneyuResult(statistic=89.5, pvalue=4.778975189306267e-08)"
            ]
          },
          "metadata": {},
          "execution_count": 66
        }
      ],
      "source": [
        "stats.mannwhitneyu(A_B[\"A\"], A_B[\"B\"])"
      ]
    },
    {
      "cell_type": "code",
      "execution_count": 67,
      "metadata": {
        "colab": {
          "base_uri": "https://localhost:8080/"
        },
        "id": "k19-SYbonagi",
        "outputId": "d1682c8e-d33b-4079-d737-d2d3ad67ae33"
      },
      "outputs": [
        {
          "output_type": "stream",
          "name": "stdout",
          "text": [
            "Test İstatistiği = 89.5000, p-değeri = 0.0000\n"
          ]
        }
      ],
      "source": [
        "test_istatistigi, pvalue = stats.mannwhitneyu(A_B[\"A\"], A_B[\"B\"])\n",
        "print('Test İstatistiği = %.4f, p-değeri = %.4f' % (test_istatistigi, pvalue))"
      ]
    },
    {
      "cell_type": "markdown",
      "metadata": {
        "id": "VT4PPjj9nagi"
      },
      "source": [
        "# Bağımlı İki Örneklem T Testi"
      ]
    },
    {
      "cell_type": "markdown",
      "metadata": {
        "id": "h1YT78ygnagi"
      },
      "source": [
        "**İş Uygulaması: Şirket İçi Eğitimin Performans Etkisi Ölçümü**"
      ]
    },
    {
      "cell_type": "code",
      "execution_count": 86,
      "metadata": {
        "id": "rjUTODZHnagi"
      },
      "outputs": [],
      "source": [
        "oncesi = pd.DataFrame([123,119,119,116,123,123,121,120,117,118,121,121,123,119,\n",
        "            121,118,124,121,125,115,115,119,118,121,117,117,120,120,\n",
        "            121,117,118,117,123,118,124,121,115,118,125,115])\n",
        "\n",
        "sonrasi = pd.DataFrame([118,127,122,132,129,123,129,132,128,130,128,138,140,130,\n",
        "             134,134,124,140,134,129,129,138,134,124,122,126,133,127,\n",
        "             130,130,130,132,117,130,125,129,133,120,127,123])"
      ]
    },
    {
      "cell_type": "code",
      "execution_count": 87,
      "metadata": {
        "colab": {
          "base_uri": "https://localhost:8080/",
          "height": 206
        },
        "id": "BMKkLO1Cnagi",
        "outputId": "fe08eb15-c893-47a5-bdb8-61bde8fbf1f1"
      },
      "outputs": [
        {
          "output_type": "execute_result",
          "data": {
            "text/plain": [
              "     0\n",
              "0  123\n",
              "1  119\n",
              "2  119\n",
              "3  116\n",
              "4  123"
            ],
            "text/html": [
              "\n",
              "  <div id=\"df-0399537a-6429-4c36-a745-92e96b56fc66\">\n",
              "    <div class=\"colab-df-container\">\n",
              "      <div>\n",
              "<style scoped>\n",
              "    .dataframe tbody tr th:only-of-type {\n",
              "        vertical-align: middle;\n",
              "    }\n",
              "\n",
              "    .dataframe tbody tr th {\n",
              "        vertical-align: top;\n",
              "    }\n",
              "\n",
              "    .dataframe thead th {\n",
              "        text-align: right;\n",
              "    }\n",
              "</style>\n",
              "<table border=\"1\" class=\"dataframe\">\n",
              "  <thead>\n",
              "    <tr style=\"text-align: right;\">\n",
              "      <th></th>\n",
              "      <th>0</th>\n",
              "    </tr>\n",
              "  </thead>\n",
              "  <tbody>\n",
              "    <tr>\n",
              "      <th>0</th>\n",
              "      <td>123</td>\n",
              "    </tr>\n",
              "    <tr>\n",
              "      <th>1</th>\n",
              "      <td>119</td>\n",
              "    </tr>\n",
              "    <tr>\n",
              "      <th>2</th>\n",
              "      <td>119</td>\n",
              "    </tr>\n",
              "    <tr>\n",
              "      <th>3</th>\n",
              "      <td>116</td>\n",
              "    </tr>\n",
              "    <tr>\n",
              "      <th>4</th>\n",
              "      <td>123</td>\n",
              "    </tr>\n",
              "  </tbody>\n",
              "</table>\n",
              "</div>\n",
              "      <button class=\"colab-df-convert\" onclick=\"convertToInteractive('df-0399537a-6429-4c36-a745-92e96b56fc66')\"\n",
              "              title=\"Convert this dataframe to an interactive table.\"\n",
              "              style=\"display:none;\">\n",
              "        \n",
              "  <svg xmlns=\"http://www.w3.org/2000/svg\" height=\"24px\"viewBox=\"0 0 24 24\"\n",
              "       width=\"24px\">\n",
              "    <path d=\"M0 0h24v24H0V0z\" fill=\"none\"/>\n",
              "    <path d=\"M18.56 5.44l.94 2.06.94-2.06 2.06-.94-2.06-.94-.94-2.06-.94 2.06-2.06.94zm-11 1L8.5 8.5l.94-2.06 2.06-.94-2.06-.94L8.5 2.5l-.94 2.06-2.06.94zm10 10l.94 2.06.94-2.06 2.06-.94-2.06-.94-.94-2.06-.94 2.06-2.06.94z\"/><path d=\"M17.41 7.96l-1.37-1.37c-.4-.4-.92-.59-1.43-.59-.52 0-1.04.2-1.43.59L10.3 9.45l-7.72 7.72c-.78.78-.78 2.05 0 2.83L4 21.41c.39.39.9.59 1.41.59.51 0 1.02-.2 1.41-.59l7.78-7.78 2.81-2.81c.8-.78.8-2.07 0-2.86zM5.41 20L4 18.59l7.72-7.72 1.47 1.35L5.41 20z\"/>\n",
              "  </svg>\n",
              "      </button>\n",
              "      \n",
              "  <style>\n",
              "    .colab-df-container {\n",
              "      display:flex;\n",
              "      flex-wrap:wrap;\n",
              "      gap: 12px;\n",
              "    }\n",
              "\n",
              "    .colab-df-convert {\n",
              "      background-color: #E8F0FE;\n",
              "      border: none;\n",
              "      border-radius: 50%;\n",
              "      cursor: pointer;\n",
              "      display: none;\n",
              "      fill: #1967D2;\n",
              "      height: 32px;\n",
              "      padding: 0 0 0 0;\n",
              "      width: 32px;\n",
              "    }\n",
              "\n",
              "    .colab-df-convert:hover {\n",
              "      background-color: #E2EBFA;\n",
              "      box-shadow: 0px 1px 2px rgba(60, 64, 67, 0.3), 0px 1px 3px 1px rgba(60, 64, 67, 0.15);\n",
              "      fill: #174EA6;\n",
              "    }\n",
              "\n",
              "    [theme=dark] .colab-df-convert {\n",
              "      background-color: #3B4455;\n",
              "      fill: #D2E3FC;\n",
              "    }\n",
              "\n",
              "    [theme=dark] .colab-df-convert:hover {\n",
              "      background-color: #434B5C;\n",
              "      box-shadow: 0px 1px 3px 1px rgba(0, 0, 0, 0.15);\n",
              "      filter: drop-shadow(0px 1px 2px rgba(0, 0, 0, 0.3));\n",
              "      fill: #FFFFFF;\n",
              "    }\n",
              "  </style>\n",
              "\n",
              "      <script>\n",
              "        const buttonEl =\n",
              "          document.querySelector('#df-0399537a-6429-4c36-a745-92e96b56fc66 button.colab-df-convert');\n",
              "        buttonEl.style.display =\n",
              "          google.colab.kernel.accessAllowed ? 'block' : 'none';\n",
              "\n",
              "        async function convertToInteractive(key) {\n",
              "          const element = document.querySelector('#df-0399537a-6429-4c36-a745-92e96b56fc66');\n",
              "          const dataTable =\n",
              "            await google.colab.kernel.invokeFunction('convertToInteractive',\n",
              "                                                     [key], {});\n",
              "          if (!dataTable) return;\n",
              "\n",
              "          const docLinkHtml = 'Like what you see? Visit the ' +\n",
              "            '<a target=\"_blank\" href=https://colab.research.google.com/notebooks/data_table.ipynb>data table notebook</a>'\n",
              "            + ' to learn more about interactive tables.';\n",
              "          element.innerHTML = '';\n",
              "          dataTable['output_type'] = 'display_data';\n",
              "          await google.colab.output.renderOutput(dataTable, element);\n",
              "          const docLink = document.createElement('div');\n",
              "          docLink.innerHTML = docLinkHtml;\n",
              "          element.appendChild(docLink);\n",
              "        }\n",
              "      </script>\n",
              "    </div>\n",
              "  </div>\n",
              "  "
            ]
          },
          "metadata": {},
          "execution_count": 87
        }
      ],
      "source": [
        "oncesi[0:5]"
      ]
    },
    {
      "cell_type": "code",
      "execution_count": 88,
      "metadata": {
        "colab": {
          "base_uri": "https://localhost:8080/",
          "height": 206
        },
        "id": "MUqnWRSUnagi",
        "outputId": "418bee83-0ae8-44a0-b427-30d0a2c57ecf"
      },
      "outputs": [
        {
          "output_type": "execute_result",
          "data": {
            "text/plain": [
              "     0\n",
              "0  118\n",
              "1  127\n",
              "2  122\n",
              "3  132\n",
              "4  129"
            ],
            "text/html": [
              "\n",
              "  <div id=\"df-4da2f572-9612-45ff-955f-d5d7b7b27474\">\n",
              "    <div class=\"colab-df-container\">\n",
              "      <div>\n",
              "<style scoped>\n",
              "    .dataframe tbody tr th:only-of-type {\n",
              "        vertical-align: middle;\n",
              "    }\n",
              "\n",
              "    .dataframe tbody tr th {\n",
              "        vertical-align: top;\n",
              "    }\n",
              "\n",
              "    .dataframe thead th {\n",
              "        text-align: right;\n",
              "    }\n",
              "</style>\n",
              "<table border=\"1\" class=\"dataframe\">\n",
              "  <thead>\n",
              "    <tr style=\"text-align: right;\">\n",
              "      <th></th>\n",
              "      <th>0</th>\n",
              "    </tr>\n",
              "  </thead>\n",
              "  <tbody>\n",
              "    <tr>\n",
              "      <th>0</th>\n",
              "      <td>118</td>\n",
              "    </tr>\n",
              "    <tr>\n",
              "      <th>1</th>\n",
              "      <td>127</td>\n",
              "    </tr>\n",
              "    <tr>\n",
              "      <th>2</th>\n",
              "      <td>122</td>\n",
              "    </tr>\n",
              "    <tr>\n",
              "      <th>3</th>\n",
              "      <td>132</td>\n",
              "    </tr>\n",
              "    <tr>\n",
              "      <th>4</th>\n",
              "      <td>129</td>\n",
              "    </tr>\n",
              "  </tbody>\n",
              "</table>\n",
              "</div>\n",
              "      <button class=\"colab-df-convert\" onclick=\"convertToInteractive('df-4da2f572-9612-45ff-955f-d5d7b7b27474')\"\n",
              "              title=\"Convert this dataframe to an interactive table.\"\n",
              "              style=\"display:none;\">\n",
              "        \n",
              "  <svg xmlns=\"http://www.w3.org/2000/svg\" height=\"24px\"viewBox=\"0 0 24 24\"\n",
              "       width=\"24px\">\n",
              "    <path d=\"M0 0h24v24H0V0z\" fill=\"none\"/>\n",
              "    <path d=\"M18.56 5.44l.94 2.06.94-2.06 2.06-.94-2.06-.94-.94-2.06-.94 2.06-2.06.94zm-11 1L8.5 8.5l.94-2.06 2.06-.94-2.06-.94L8.5 2.5l-.94 2.06-2.06.94zm10 10l.94 2.06.94-2.06 2.06-.94-2.06-.94-.94-2.06-.94 2.06-2.06.94z\"/><path d=\"M17.41 7.96l-1.37-1.37c-.4-.4-.92-.59-1.43-.59-.52 0-1.04.2-1.43.59L10.3 9.45l-7.72 7.72c-.78.78-.78 2.05 0 2.83L4 21.41c.39.39.9.59 1.41.59.51 0 1.02-.2 1.41-.59l7.78-7.78 2.81-2.81c.8-.78.8-2.07 0-2.86zM5.41 20L4 18.59l7.72-7.72 1.47 1.35L5.41 20z\"/>\n",
              "  </svg>\n",
              "      </button>\n",
              "      \n",
              "  <style>\n",
              "    .colab-df-container {\n",
              "      display:flex;\n",
              "      flex-wrap:wrap;\n",
              "      gap: 12px;\n",
              "    }\n",
              "\n",
              "    .colab-df-convert {\n",
              "      background-color: #E8F0FE;\n",
              "      border: none;\n",
              "      border-radius: 50%;\n",
              "      cursor: pointer;\n",
              "      display: none;\n",
              "      fill: #1967D2;\n",
              "      height: 32px;\n",
              "      padding: 0 0 0 0;\n",
              "      width: 32px;\n",
              "    }\n",
              "\n",
              "    .colab-df-convert:hover {\n",
              "      background-color: #E2EBFA;\n",
              "      box-shadow: 0px 1px 2px rgba(60, 64, 67, 0.3), 0px 1px 3px 1px rgba(60, 64, 67, 0.15);\n",
              "      fill: #174EA6;\n",
              "    }\n",
              "\n",
              "    [theme=dark] .colab-df-convert {\n",
              "      background-color: #3B4455;\n",
              "      fill: #D2E3FC;\n",
              "    }\n",
              "\n",
              "    [theme=dark] .colab-df-convert:hover {\n",
              "      background-color: #434B5C;\n",
              "      box-shadow: 0px 1px 3px 1px rgba(0, 0, 0, 0.15);\n",
              "      filter: drop-shadow(0px 1px 2px rgba(0, 0, 0, 0.3));\n",
              "      fill: #FFFFFF;\n",
              "    }\n",
              "  </style>\n",
              "\n",
              "      <script>\n",
              "        const buttonEl =\n",
              "          document.querySelector('#df-4da2f572-9612-45ff-955f-d5d7b7b27474 button.colab-df-convert');\n",
              "        buttonEl.style.display =\n",
              "          google.colab.kernel.accessAllowed ? 'block' : 'none';\n",
              "\n",
              "        async function convertToInteractive(key) {\n",
              "          const element = document.querySelector('#df-4da2f572-9612-45ff-955f-d5d7b7b27474');\n",
              "          const dataTable =\n",
              "            await google.colab.kernel.invokeFunction('convertToInteractive',\n",
              "                                                     [key], {});\n",
              "          if (!dataTable) return;\n",
              "\n",
              "          const docLinkHtml = 'Like what you see? Visit the ' +\n",
              "            '<a target=\"_blank\" href=https://colab.research.google.com/notebooks/data_table.ipynb>data table notebook</a>'\n",
              "            + ' to learn more about interactive tables.';\n",
              "          element.innerHTML = '';\n",
              "          dataTable['output_type'] = 'display_data';\n",
              "          await google.colab.output.renderOutput(dataTable, element);\n",
              "          const docLink = document.createElement('div');\n",
              "          docLink.innerHTML = docLinkHtml;\n",
              "          element.appendChild(docLink);\n",
              "        }\n",
              "      </script>\n",
              "    </div>\n",
              "  </div>\n",
              "  "
            ]
          },
          "metadata": {},
          "execution_count": 88
        }
      ],
      "source": [
        "sonrasi[0:5]"
      ]
    },
    {
      "cell_type": "code",
      "execution_count": 89,
      "metadata": {
        "colab": {
          "base_uri": "https://localhost:8080/"
        },
        "id": "Zwx5Ynf0nagi",
        "outputId": "a6d3593a-0a64-472e-cec1-46b82f491868"
      },
      "outputs": [
        {
          "output_type": "execute_result",
          "data": {
            "text/plain": [
              "array([ 0,  1,  2,  3,  4,  5,  6,  7,  8,  9, 10, 11, 12, 13, 14, 15, 16,\n",
              "       17, 18, 19, 20, 21, 22, 23, 24, 25, 26, 27, 28, 29, 30, 31, 32, 33,\n",
              "       34, 35, 36, 37, 38, 39])"
            ]
          },
          "metadata": {},
          "execution_count": 89
        }
      ],
      "source": [
        " np.arange(len(oncesi))"
      ]
    },
    {
      "cell_type": "code",
      "execution_count": 90,
      "metadata": {
        "colab": {
          "base_uri": "https://localhost:8080/"
        },
        "id": "D9MPtcusnagj",
        "outputId": "076348e9-8ea4-4c37-8b8a-817f7f5d647b"
      },
      "outputs": [
        {
          "output_type": "stream",
          "name": "stdout",
          "text": [
            "'AYRIK' Veri Seti: \n",
            "\n",
            "     ONCESI  SONRASI\n",
            "0     123      118\n",
            "1     119      127\n",
            "2     119      122\n",
            "3     116      132\n",
            "4     123      129 \n",
            "\n",
            "\n",
            "'BIRLIKTE' Veri Seti: \n",
            "\n",
            "    PERFORMANS ONCESI_SONRASI\n",
            "0         123         ONCESI\n",
            "1         119         ONCESI\n",
            "2         119         ONCESI\n",
            "3         116         ONCESI\n",
            "4         123         ONCESI \n",
            "\n"
          ]
        }
      ],
      "source": [
        "#BIRINCI VERI SETI\n",
        "AYRIK = pd.concat([oncesi, sonrasi], axis = 1)\n",
        "AYRIK.columns = [\"ONCESI\",\"SONRASI\"]\n",
        "print(\"'AYRIK' Veri Seti: \\n\\n \", AYRIK.head(), \"\\n\\n\")\n",
        "\n",
        "\n",
        "#IKINCI VERI SETI\n",
        "#ONCESI FLAG/TAG'INI OLUSTURMA\n",
        "GRUP_ONCESI = np.arange(len(oncesi))\n",
        "GRUP_ONCESI = pd.DataFrame(GRUP_ONCESI)\n",
        "GRUP_ONCESI[:] = \"ONCESI\"\n",
        "#FLAG VE ONCESI DEGERLERINI BIR ARAYA GETIRME\n",
        "A = pd.concat([oncesi, GRUP_ONCESI], axis = 1)\n",
        "#SONRASI FLAG/TAG'INI OLUSTURMA\n",
        "GRUP_SONRASI = np.arange(len(sonrasi))\n",
        "GRUP_SONRASI = pd.DataFrame(GRUP_SONRASI)\n",
        "GRUP_SONRASI[:] = \"SONRASI\"\n",
        "\n",
        "#FLAG VE SONRASI DEGERLERINI BIR ARAYA GETIRME\n",
        "B = pd.concat([sonrasi, GRUP_SONRASI], axis = 1)\n",
        "\n",
        "#TUM VERIYI BIR ARAYA GETIRME\n",
        "BIRLIKTE = pd.concat([A,B])\n",
        "BIRLIKTE\n",
        "\n",
        "#ISIMLENDIRME\n",
        "BIRLIKTE.columns = [\"PERFORMANS\",\"ONCESI_SONRASI\"]\n",
        "print(\"'BIRLIKTE' Veri Seti: \\n\\n\", BIRLIKTE.head(), \"\\n\")"
      ]
    },
    {
      "cell_type": "code",
      "execution_count": 91,
      "metadata": {
        "colab": {
          "base_uri": "https://localhost:8080/",
          "height": 280
        },
        "id": "ELGTaMBqnagj",
        "outputId": "3b3fe82c-edb2-4268-f71e-0eeb27044a4a"
      },
      "outputs": [
        {
          "output_type": "display_data",
          "data": {
            "text/plain": [
              "<Figure size 432x288 with 1 Axes>"
            ],
            "image/png": "[encoded data removed]"
          },
          "metadata": {
            "needs_background": "light"
          }
        }
      ],
      "source": [
        "import seaborn as sns\n",
        "sns.boxplot(x = \"ONCESI_SONRASI\", y = \"PERFORMANS\", data = BIRLIKTE);"
      ]
    },
    {
      "cell_type": "markdown",
      "metadata": {
        "id": "Rhv2WEe7nagj"
      },
      "source": [
        "## Varsayım Kontrolleri "
      ]
    },
    {
      "cell_type": "code",
      "execution_count": 92,
      "metadata": {
        "id": "XGICsV55nagj"
      },
      "outputs": [],
      "source": [
        "from scipy.stats import shapiro"
      ]
    },
    {
      "cell_type": "code",
      "execution_count": 93,
      "metadata": {
        "colab": {
          "base_uri": "https://localhost:8080/"
        },
        "id": "o36VhlRxnagj",
        "outputId": "b1eb9244-7fa1-42fd-c518-a5fb8d4dac05"
      },
      "outputs": [
        {
          "output_type": "execute_result",
          "data": {
            "text/plain": [
              "(0.9543654918670654, 0.10722342133522034)"
            ]
          },
          "metadata": {},
          "execution_count": 93
        }
      ],
      "source": [
        "shapiro(AYRIK.ONCESI)"
      ]
    },
    {
      "cell_type": "code",
      "execution_count": 94,
      "metadata": {
        "colab": {
          "base_uri": "https://localhost:8080/"
        },
        "id": "uz17DZjXnagj",
        "outputId": "18d55de7-1ee7-4e42-c9e1-b25baef919a2"
      },
      "outputs": [
        {
          "output_type": "execute_result",
          "data": {
            "text/plain": [
              "(0.9780087471008301, 0.6159457564353943)"
            ]
          },
          "metadata": {},
          "execution_count": 94
        }
      ],
      "source": [
        "shapiro(AYRIK.SONRASI)"
      ]
    },
    {
      "cell_type": "code",
      "execution_count": 95,
      "metadata": {
        "colab": {
          "base_uri": "https://localhost:8080/"
        },
        "id": "sZoyriIdnagk",
        "outputId": "7b3ebba4-7542-4d68-ab7c-26572f010d00"
      },
      "outputs": [
        {
          "output_type": "execute_result",
          "data": {
            "text/plain": [
              "LeveneResult(statistic=8.31303288672351, pvalue=0.0050844511807370246)"
            ]
          },
          "metadata": {},
          "execution_count": 95
        }
      ],
      "source": [
        "import scipy.stats as stats\n",
        "stats.levene(AYRIK.ONCESI, AYRIK.SONRASI)"
      ]
    },
    {
      "cell_type": "markdown",
      "metadata": {
        "id": "_kiQC17hnagk"
      },
      "source": [
        "## Hipotez Testi"
      ]
    },
    {
      "cell_type": "code",
      "execution_count": 96,
      "metadata": {
        "colab": {
          "base_uri": "https://localhost:8080/"
        },
        "id": "pWqTzKyEnagk",
        "outputId": "e57e6288-1fc4-44a4-f614-0756a186ffcc"
      },
      "outputs": [
        {
          "output_type": "execute_result",
          "data": {
            "text/plain": [
              "Ttest_relResult(statistic=-9.281533480429937, pvalue=2.0235251764440722e-11)"
            ]
          },
          "metadata": {},
          "execution_count": 96
        }
      ],
      "source": [
        "stats.ttest_rel(AYRIK.ONCESI, AYRIK.SONRASI)"
      ]
    },
    {
      "cell_type": "code",
      "execution_count": 97,
      "metadata": {
        "colab": {
          "base_uri": "https://localhost:8080/"
        },
        "id": "2XhYxC3Xnagk",
        "outputId": "61b170e9-d699-49c5-8107-73302c54a1cf"
      },
      "outputs": [
        {
          "output_type": "stream",
          "name": "stdout",
          "text": [
            "Test İstatistiği = -9.28153, p-değeri = 0.00000\n"
          ]
        }
      ],
      "source": [
        "test_istatistigi, pvalue = stats.ttest_rel(AYRIK[\"ONCESI\"], AYRIK[\"SONRASI\"])\n",
        "print('Test İstatistiği = %.5f, p-değeri = %.5f' % (test_istatistigi, pvalue))"
      ]
    },
    {
      "cell_type": "markdown",
      "metadata": {
        "id": "hWcP8UYSnagk"
      },
      "source": [
        "## Nonparametrik Bağımlı İki Örneklem Testi"
      ]
    },
    {
      "cell_type": "code",
      "execution_count": 98,
      "metadata": {
        "colab": {
          "base_uri": "https://localhost:8080/"
        },
        "id": "h4awD4iznagk",
        "outputId": "b7e093fd-7168-4dd2-ca86-67a34fe0cab6"
      },
      "outputs": [
        {
          "output_type": "execute_result",
          "data": {
            "text/plain": [
              "WilcoxonResult(statistic=15.0, pvalue=2.491492033374464e-07)"
            ]
          },
          "metadata": {},
          "execution_count": 98
        }
      ],
      "source": [
        "stats.wilcoxon(AYRIK.ONCESI, AYRIK.SONRASI)"
      ]
    },
    {
      "cell_type": "code",
      "execution_count": 99,
      "metadata": {
        "colab": {
          "base_uri": "https://localhost:8080/"
        },
        "id": "VzU9c05vnagl",
        "outputId": "0d72236f-b0a6-4376-8ae7-0392c5e0b10a"
      },
      "outputs": [
        {
          "output_type": "stream",
          "name": "stdout",
          "text": [
            "Test İstatistiği = 15.0000, p-değeri = 0.0000\n"
          ]
        }
      ],
      "source": [
        "test_istatistigi, pvalue = stats.wilcoxon(AYRIK[\"ONCESI\"], AYRIK[\"SONRASI\"])\n",
        "\n",
        "print('Test İstatistiği = %.4f, p-değeri = %.4f' % (test_istatistigi, pvalue))"
      ]
    },
    {
      "cell_type": "markdown",
      "metadata": {
        "id": "MROL6MVtnagl"
      },
      "source": [
        "## İki Örneklem Oran Testi"
      ]
    },
    {
      "cell_type": "markdown",
      "metadata": {
        "id": "fsrvnedfnagl"
      },
      "source": [
        "#### **İş Uygulaması: Kullanıcı Arayüz Deneyi (AB Testi)**"
      ]
    },
    {
      "cell_type": "code",
      "execution_count": 100,
      "metadata": {
        "id": "PWzRvkDRnagl"
      },
      "outputs": [],
      "source": [
        "from statsmodels.stats.proportion import proportions_ztest"
      ]
    },
    {
      "cell_type": "code",
      "execution_count": 101,
      "metadata": {
        "id": "qgXl_M1Jnagl"
      },
      "outputs": [],
      "source": [
        "import numpy as np\n",
        "basari_sayisi = np.array([300, 250])\n",
        "gozlem_sayilari = np.array([1000, 1100])"
      ]
    },
    {
      "cell_type": "code",
      "execution_count": 102,
      "metadata": {
        "colab": {
          "base_uri": "https://localhost:8080/"
        },
        "id": "Gwp194HWnagl",
        "outputId": "64f0d386-bf0e-432f-ace9-60ef04825b2b"
      },
      "outputs": [
        {
          "output_type": "execute_result",
          "data": {
            "text/plain": [
              "(3.7857863233209255, 0.0001532232957772221)"
            ]
          },
          "metadata": {},
          "execution_count": 102
        }
      ],
      "source": [
        "proportions_ztest(count = basari_sayisi, nobs = gozlem_sayilari)"
      ]
    },
    {
      "cell_type": "markdown",
      "metadata": {
        "id": "OFykwQm9nagl"
      },
      "source": [
        "# Varyans Analizi"
      ]
    },
    {
      "cell_type": "markdown",
      "metadata": {
        "id": "X4jsKqyNnagm"
      },
      "source": [
        "H0: M1 = M2 = M3 (grup ortalamalari arasinda ist anl. farklilik yoktur) \n",
        "\n",
        "H1: Fark vardir."
      ]
    },
    {
      "cell_type": "markdown",
      "metadata": {
        "id": "uQojmSfsnagm"
      },
      "source": [
        "#### **İş Uygulaması: Anasayfa İçerik Stratejisi Belirleme**"
      ]
    },
    {
      "cell_type": "code",
      "execution_count": 103,
      "metadata": {
        "colab": {
          "base_uri": "https://localhost:8080/",
          "height": 206
        },
        "id": "SgqQK8ESnagm",
        "outputId": "2d814328-b69a-4f4f-9403-601d59d55449"
      },
      "outputs": [
        {
          "output_type": "execute_result",
          "data": {
            "text/plain": [
              "   GRUP_A  GRUP_B  GRUP_C\n",
              "0      28      31      40\n",
              "1      33      32      33\n",
              "2      30      30      38\n",
              "3      29      30      41\n",
              "4      28      33      42"
            ],
            "text/html": [
              "\n",
              "  <div id=\"df-d8add3d5-b597-4847-b3aa-72597fa1df65\">\n",
              "    <div class=\"colab-df-container\">\n",
              "      <div>\n",
              "<style scoped>\n",
              "    .dataframe tbody tr th:only-of-type {\n",
              "        vertical-align: middle;\n",
              "    }\n",
              "\n",
              "    .dataframe tbody tr th {\n",
              "        vertical-align: top;\n",
              "    }\n",
              "\n",
              "    .dataframe thead th {\n",
              "        text-align: right;\n",
              "    }\n",
              "</style>\n",
              "<table border=\"1\" class=\"dataframe\">\n",
              "  <thead>\n",
              "    <tr style=\"text-align: right;\">\n",
              "      <th></th>\n",
              "      <th>GRUP_A</th>\n",
              "      <th>GRUP_B</th>\n",
              "      <th>GRUP_C</th>\n",
              "    </tr>\n",
              "  </thead>\n",
              "  <tbody>\n",
              "    <tr>\n",
              "      <th>0</th>\n",
              "      <td>28</td>\n",
              "      <td>31</td>\n",
              "      <td>40</td>\n",
              "    </tr>\n",
              "    <tr>\n",
              "      <th>1</th>\n",
              "      <td>33</td>\n",
              "      <td>32</td>\n",
              "      <td>33</td>\n",
              "    </tr>\n",
              "    <tr>\n",
              "      <th>2</th>\n",
              "      <td>30</td>\n",
              "      <td>30</td>\n",
              "      <td>38</td>\n",
              "    </tr>\n",
              "    <tr>\n",
              "      <th>3</th>\n",
              "      <td>29</td>\n",
              "      <td>30</td>\n",
              "      <td>41</td>\n",
              "    </tr>\n",
              "    <tr>\n",
              "      <th>4</th>\n",
              "      <td>28</td>\n",
              "      <td>33</td>\n",
              "      <td>42</td>\n",
              "    </tr>\n",
              "  </tbody>\n",
              "</table>\n",
              "</div>\n",
              "      <button class=\"colab-df-convert\" onclick=\"convertToInteractive('df-d8add3d5-b597-4847-b3aa-72597fa1df65')\"\n",
              "              title=\"Convert this dataframe to an interactive table.\"\n",
              "              style=\"display:none;\">\n",
              "        \n",
              "  <svg xmlns=\"http://www.w3.org/2000/svg\" height=\"24px\"viewBox=\"0 0 24 24\"\n",
              "       width=\"24px\">\n",
              "    <path d=\"M0 0h24v24H0V0z\" fill=\"none\"/>\n",
              "    <path d=\"M18.56 5.44l.94 2.06.94-2.06 2.06-.94-2.06-.94-.94-2.06-.94 2.06-2.06.94zm-11 1L8.5 8.5l.94-2.06 2.06-.94-2.06-.94L8.5 2.5l-.94 2.06-2.06.94zm10 10l.94 2.06.94-2.06 2.06-.94-2.06-.94-.94-2.06-.94 2.06-2.06.94z\"/><path d=\"M17.41 7.96l-1.37-1.37c-.4-.4-.92-.59-1.43-.59-.52 0-1.04.2-1.43.59L10.3 9.45l-7.72 7.72c-.78.78-.78 2.05 0 2.83L4 21.41c.39.39.9.59 1.41.59.51 0 1.02-.2 1.41-.59l7.78-7.78 2.81-2.81c.8-.78.8-2.07 0-2.86zM5.41 20L4 18.59l7.72-7.72 1.47 1.35L5.41 20z\"/>\n",
              "  </svg>\n",
              "      </button>\n",
              "      \n",
              "  <style>\n",
              "    .colab-df-container {\n",
              "      display:flex;\n",
              "      flex-wrap:wrap;\n",
              "      gap: 12px;\n",
              "    }\n",
              "\n",
              "    .colab-df-convert {\n",
              "      background-color: #E8F0FE;\n",
              "      border: none;\n",
              "      border-radius: 50%;\n",
              "      cursor: pointer;\n",
              "      display: none;\n",
              "      fill: #1967D2;\n",
              "      height: 32px;\n",
              "      padding: 0 0 0 0;\n",
              "      width: 32px;\n",
              "    }\n",
              "\n",
              "    .colab-df-convert:hover {\n",
              "      background-color: #E2EBFA;\n",
              "      box-shadow: 0px 1px 2px rgba(60, 64, 67, 0.3), 0px 1px 3px 1px rgba(60, 64, 67, 0.15);\n",
              "      fill: #174EA6;\n",
              "    }\n",
              "\n",
              "    [theme=dark] .colab-df-convert {\n",
              "      background-color: #3B4455;\n",
              "      fill: #D2E3FC;\n",
              "    }\n",
              "\n",
              "    [theme=dark] .colab-df-convert:hover {\n",
              "      background-color: #434B5C;\n",
              "      box-shadow: 0px 1px 3px 1px rgba(0, 0, 0, 0.15);\n",
              "      filter: drop-shadow(0px 1px 2px rgba(0, 0, 0, 0.3));\n",
              "      fill: #FFFFFF;\n",
              "    }\n",
              "  </style>\n",
              "\n",
              "      <script>\n",
              "        const buttonEl =\n",
              "          document.querySelector('#df-d8add3d5-b597-4847-b3aa-72597fa1df65 button.colab-df-convert');\n",
              "        buttonEl.style.display =\n",
              "          google.colab.kernel.accessAllowed ? 'block' : 'none';\n",
              "\n",
              "        async function convertToInteractive(key) {\n",
              "          const element = document.querySelector('#df-d8add3d5-b597-4847-b3aa-72597fa1df65');\n",
              "          const dataTable =\n",
              "            await google.colab.kernel.invokeFunction('convertToInteractive',\n",
              "                                                     [key], {});\n",
              "          if (!dataTable) return;\n",
              "\n",
              "          const docLinkHtml = 'Like what you see? Visit the ' +\n",
              "            '<a target=\"_blank\" href=https://colab.research.google.com/notebooks/data_table.ipynb>data table notebook</a>'\n",
              "            + ' to learn more about interactive tables.';\n",
              "          element.innerHTML = '';\n",
              "          dataTable['output_type'] = 'display_data';\n",
              "          await google.colab.output.renderOutput(dataTable, element);\n",
              "          const docLink = document.createElement('div');\n",
              "          docLink.innerHTML = docLinkHtml;\n",
              "          element.appendChild(docLink);\n",
              "        }\n",
              "      </script>\n",
              "    </div>\n",
              "  </div>\n",
              "  "
            ]
          },
          "metadata": {},
          "execution_count": 103
        }
      ],
      "source": [
        "A = pd.DataFrame([28,33,30,29,28,29,27,31,30,32,28,33,25,29,27,31,31,30,31,34,30,32,31,34,28,32,31,28,33,29])\n",
        "\n",
        "B = pd.DataFrame([31,32,30,30,33,32,34,27,36,30,31,30,38,29,30,34,34,31,35,35,33,30,28,29,26,37,31,28,34,33])\n",
        "\n",
        "C = pd.DataFrame([40,33,38,41,42,43,38,35,39,39,36,34,35,40,38,36,39,36,33,35,38,35,40,40,39,38,38,43,40,42])\n",
        "\n",
        "dfs = [A, B, C]\n",
        "\n",
        "ABC = pd.concat(dfs, axis = 1)\n",
        "ABC.columns = [\"GRUP_A\",\"GRUP_B\",\"GRUP_C\"]\n",
        "ABC.head()"
      ]
    },
    {
      "cell_type": "markdown",
      "metadata": {
        "id": "h6w6PVW4nagm"
      },
      "source": [
        "## Varsayım Kontrolü"
      ]
    },
    {
      "cell_type": "code",
      "execution_count": 104,
      "metadata": {
        "id": "-gKc6S9Anagm"
      },
      "outputs": [],
      "source": [
        "from scipy.stats import shapiro"
      ]
    },
    {
      "cell_type": "code",
      "execution_count": 106,
      "metadata": {
        "colab": {
          "base_uri": "https://localhost:8080/"
        },
        "id": "eeFsr_xanagm",
        "outputId": "f12dbf98-2e9a-4c7f-b847-0af4475f4f19"
      },
      "outputs": [
        {
          "output_type": "execute_result",
          "data": {
            "text/plain": [
              "(0.9697431921958923, 0.5321715474128723)"
            ]
          },
          "metadata": {},
          "execution_count": 106
        }
      ],
      "source": [
        "shapiro(ABC[\"GRUP_A\"])"
      ]
    },
    {
      "cell_type": "code",
      "execution_count": 107,
      "metadata": {
        "colab": {
          "base_uri": "https://localhost:8080/"
        },
        "id": "UdWTaSIRnagm",
        "outputId": "7a631623-43de-45ea-aba5-783c7bd89f85"
      },
      "outputs": [
        {
          "output_type": "execute_result",
          "data": {
            "text/plain": [
              "(0.9789854884147644, 0.7979801297187805)"
            ]
          },
          "metadata": {},
          "execution_count": 107
        }
      ],
      "source": [
        "shapiro(ABC[\"GRUP_B\"])"
      ]
    },
    {
      "cell_type": "code",
      "execution_count": 108,
      "metadata": {
        "colab": {
          "base_uri": "https://localhost:8080/"
        },
        "id": "8fKUivI4nagn",
        "outputId": "32e931b3-b89c-4a4c-fc79-90e9c336aa4e"
      },
      "outputs": [
        {
          "output_type": "execute_result",
          "data": {
            "text/plain": [
              "(0.9579201340675354, 0.273820161819458)"
            ]
          },
          "metadata": {},
          "execution_count": 108
        }
      ],
      "source": [
        "shapiro(ABC[\"GRUP_C\"])"
      ]
    },
    {
      "cell_type": "code",
      "execution_count": 109,
      "metadata": {
        "colab": {
          "base_uri": "https://localhost:8080/"
        },
        "id": "vDe-oFJMnagn",
        "outputId": "6f9e6a29-f54a-4e26-833b-35d55a2be180"
      },
      "outputs": [
        {
          "output_type": "execute_result",
          "data": {
            "text/plain": [
              "LeveneResult(statistic=1.0267403645055275, pvalue=0.36247110117417064)"
            ]
          },
          "metadata": {},
          "execution_count": 109
        }
      ],
      "source": [
        "stats.levene(ABC[\"GRUP_A\"], ABC[\"GRUP_B\"],ABC[\"GRUP_C\"])"
      ]
    },
    {
      "cell_type": "markdown",
      "metadata": {
        "id": "vGM6Vsm6nagn"
      },
      "source": [
        "## Hipotez Testi"
      ]
    },
    {
      "cell_type": "code",
      "execution_count": 110,
      "metadata": {
        "id": "M4ZeL0ownagn"
      },
      "outputs": [],
      "source": [
        "from scipy.stats import f_oneway"
      ]
    },
    {
      "cell_type": "code",
      "execution_count": 111,
      "metadata": {
        "colab": {
          "base_uri": "https://localhost:8080/"
        },
        "id": "dNYwUSx1nagn",
        "outputId": "c881aa63-c21b-4e8e-b75d-f87b6d97d478"
      },
      "outputs": [
        {
          "output_type": "execute_result",
          "data": {
            "text/plain": [
              "F_onewayResult(statistic=74.69278140730431, pvalue=1.3079050746811477e-19)"
            ]
          },
          "metadata": {},
          "execution_count": 111
        }
      ],
      "source": [
        "f_oneway(ABC[\"GRUP_A\"], ABC[\"GRUP_B\"],ABC[\"GRUP_C\"])"
      ]
    },
    {
      "cell_type": "code",
      "execution_count": 112,
      "metadata": {
        "colab": {
          "base_uri": "https://localhost:8080/"
        },
        "id": "c2hfJbo7nagn",
        "outputId": "b93c94c6-087d-4af0-fc66-b75a9e575935"
      },
      "outputs": [
        {
          "output_type": "stream",
          "name": "stdout",
          "text": [
            "0.00000\n"
          ]
        }
      ],
      "source": [
        "print('{:.5f}'.format(f_oneway(ABC[\"GRUP_A\"], ABC[\"GRUP_B\"],ABC[\"GRUP_C\"])[1]))"
      ]
    },
    {
      "cell_type": "code",
      "execution_count": 113,
      "metadata": {
        "colab": {
          "base_uri": "https://localhost:8080/",
          "height": 143
        },
        "id": "0WkG_Tkpnagn",
        "outputId": "b0a42f5e-b46f-43b7-9236-13e4cbde8236"
      },
      "outputs": [
        {
          "output_type": "execute_result",
          "data": {
            "text/plain": [
              "        count       mean       std   min    25%   50%    75%   max\n",
              "GRUP_A   30.0  30.133333  2.224214  25.0  28.25  30.0  31.75  34.0\n",
              "GRUP_B   30.0  31.700000  2.937862  26.0  30.00  31.0  34.00  38.0\n",
              "GRUP_C   30.0  38.100000  2.808239  33.0  36.00  38.0  40.00  43.0"
            ],
            "text/html": [
              "\n",
              "  <div id=\"df-a5e596de-70a5-45dd-a9b7-8ec168e0bd05\">\n",
              "    <div class=\"colab-df-container\">\n",
              "      <div>\n",
              "<style scoped>\n",
              "    .dataframe tbody tr th:only-of-type {\n",
              "        vertical-align: middle;\n",
              "    }\n",
              "\n",
              "    .dataframe tbody tr th {\n",
              "        vertical-align: top;\n",
              "    }\n",
              "\n",
              "    .dataframe thead th {\n",
              "        text-align: right;\n",
              "    }\n",
              "</style>\n",
              "<table border=\"1\" class=\"dataframe\">\n",
              "  <thead>\n",
              "    <tr style=\"text-align: right;\">\n",
              "      <th></th>\n",
              "      <th>count</th>\n",
              "      <th>mean</th>\n",
              "      <th>std</th>\n",
              "      <th>min</th>\n",
              "      <th>25%</th>\n",
              "      <th>50%</th>\n",
              "      <th>75%</th>\n",
              "      <th>max</th>\n",
              "    </tr>\n",
              "  </thead>\n",
              "  <tbody>\n",
              "    <tr>\n",
              "      <th>GRUP_A</th>\n",
              "      <td>30.0</td>\n",
              "      <td>30.133333</td>\n",
              "      <td>2.224214</td>\n",
              "      <td>25.0</td>\n",
              "      <td>28.25</td>\n",
              "      <td>30.0</td>\n",
              "      <td>31.75</td>\n",
              "      <td>34.0</td>\n",
              "    </tr>\n",
              "    <tr>\n",
              "      <th>GRUP_B</th>\n",
              "      <td>30.0</td>\n",
              "      <td>31.700000</td>\n",
              "      <td>2.937862</td>\n",
              "      <td>26.0</td>\n",
              "      <td>30.00</td>\n",
              "      <td>31.0</td>\n",
              "      <td>34.00</td>\n",
              "      <td>38.0</td>\n",
              "    </tr>\n",
              "    <tr>\n",
              "      <th>GRUP_C</th>\n",
              "      <td>30.0</td>\n",
              "      <td>38.100000</td>\n",
              "      <td>2.808239</td>\n",
              "      <td>33.0</td>\n",
              "      <td>36.00</td>\n",
              "      <td>38.0</td>\n",
              "      <td>40.00</td>\n",
              "      <td>43.0</td>\n",
              "    </tr>\n",
              "  </tbody>\n",
              "</table>\n",
              "</div>\n",
              "      <button class=\"colab-df-convert\" onclick=\"convertToInteractive('df-a5e596de-70a5-45dd-a9b7-8ec168e0bd05')\"\n",
              "              title=\"Convert this dataframe to an interactive table.\"\n",
              "              style=\"display:none;\">\n",
              "        \n",
              "  <svg xmlns=\"http://www.w3.org/2000/svg\" height=\"24px\"viewBox=\"0 0 24 24\"\n",
              "       width=\"24px\">\n",
              "    <path d=\"M0 0h24v24H0V0z\" fill=\"none\"/>\n",
              "    <path d=\"M18.56 5.44l.94 2.06.94-2.06 2.06-.94-2.06-.94-.94-2.06-.94 2.06-2.06.94zm-11 1L8.5 8.5l.94-2.06 2.06-.94-2.06-.94L8.5 2.5l-.94 2.06-2.06.94zm10 10l.94 2.06.94-2.06 2.06-.94-2.06-.94-.94-2.06-.94 2.06-2.06.94z\"/><path d=\"M17.41 7.96l-1.37-1.37c-.4-.4-.92-.59-1.43-.59-.52 0-1.04.2-1.43.59L10.3 9.45l-7.72 7.72c-.78.78-.78 2.05 0 2.83L4 21.41c.39.39.9.59 1.41.59.51 0 1.02-.2 1.41-.59l7.78-7.78 2.81-2.81c.8-.78.8-2.07 0-2.86zM5.41 20L4 18.59l7.72-7.72 1.47 1.35L5.41 20z\"/>\n",
              "  </svg>\n",
              "      </button>\n",
              "      \n",
              "  <style>\n",
              "    .colab-df-container {\n",
              "      display:flex;\n",
              "      flex-wrap:wrap;\n",
              "      gap: 12px;\n",
              "    }\n",
              "\n",
              "    .colab-df-convert {\n",
              "      background-color: #E8F0FE;\n",
              "      border: none;\n",
              "      border-radius: 50%;\n",
              "      cursor: pointer;\n",
              "      display: none;\n",
              "      fill: #1967D2;\n",
              "      height: 32px;\n",
              "      padding: 0 0 0 0;\n",
              "      width: 32px;\n",
              "    }\n",
              "\n",
              "    .colab-df-convert:hover {\n",
              "      background-color: #E2EBFA;\n",
              "      box-shadow: 0px 1px 2px rgba(60, 64, 67, 0.3), 0px 1px 3px 1px rgba(60, 64, 67, 0.15);\n",
              "      fill: #174EA6;\n",
              "    }\n",
              "\n",
              "    [theme=dark] .colab-df-convert {\n",
              "      background-color: #3B4455;\n",
              "      fill: #D2E3FC;\n",
              "    }\n",
              "\n",
              "    [theme=dark] .colab-df-convert:hover {\n",
              "      background-color: #434B5C;\n",
              "      box-shadow: 0px 1px 3px 1px rgba(0, 0, 0, 0.15);\n",
              "      filter: drop-shadow(0px 1px 2px rgba(0, 0, 0, 0.3));\n",
              "      fill: #FFFFFF;\n",
              "    }\n",
              "  </style>\n",
              "\n",
              "      <script>\n",
              "        const buttonEl =\n",
              "          document.querySelector('#df-a5e596de-70a5-45dd-a9b7-8ec168e0bd05 button.colab-df-convert');\n",
              "        buttonEl.style.display =\n",
              "          google.colab.kernel.accessAllowed ? 'block' : 'none';\n",
              "\n",
              "        async function convertToInteractive(key) {\n",
              "          const element = document.querySelector('#df-a5e596de-70a5-45dd-a9b7-8ec168e0bd05');\n",
              "          const dataTable =\n",
              "            await google.colab.kernel.invokeFunction('convertToInteractive',\n",
              "                                                     [key], {});\n",
              "          if (!dataTable) return;\n",
              "\n",
              "          const docLinkHtml = 'Like what you see? Visit the ' +\n",
              "            '<a target=\"_blank\" href=https://colab.research.google.com/notebooks/data_table.ipynb>data table notebook</a>'\n",
              "            + ' to learn more about interactive tables.';\n",
              "          element.innerHTML = '';\n",
              "          dataTable['output_type'] = 'display_data';\n",
              "          await google.colab.output.renderOutput(dataTable, element);\n",
              "          const docLink = document.createElement('div');\n",
              "          docLink.innerHTML = docLinkHtml;\n",
              "          element.appendChild(docLink);\n",
              "        }\n",
              "      </script>\n",
              "    </div>\n",
              "  </div>\n",
              "  "
            ]
          },
          "metadata": {},
          "execution_count": 113
        }
      ],
      "source": [
        "ABC.describe().T"
      ]
    },
    {
      "cell_type": "markdown",
      "metadata": {
        "id": "YJR7jtk3nagn"
      },
      "source": [
        "## Nonparametrik Hipotez Testi"
      ]
    },
    {
      "cell_type": "code",
      "execution_count": 114,
      "metadata": {
        "id": "yLdrXLiAnago"
      },
      "outputs": [],
      "source": [
        "from scipy.stats import kruskal"
      ]
    },
    {
      "cell_type": "code",
      "execution_count": 115,
      "metadata": {
        "colab": {
          "base_uri": "https://localhost:8080/"
        },
        "id": "CZg4Opvenago",
        "outputId": "079a0eb1-a90d-4933-bd9d-38c868036204"
      },
      "outputs": [
        {
          "output_type": "execute_result",
          "data": {
            "text/plain": [
              "KruskalResult(statistic=54.19819735523783, pvalue=1.7022015426175926e-12)"
            ]
          },
          "metadata": {},
          "execution_count": 115
        }
      ],
      "source": [
        "kruskal(ABC[\"GRUP_A\"], ABC[\"GRUP_B\"],ABC[\"GRUP_C\"])"
      ]
    },
    {
      "cell_type": "markdown",
      "metadata": {
        "id": "GcNdAwXpnago"
      },
      "source": [
        "## Korelasyon Analizi"
      ]
    },
    {
      "cell_type": "markdown",
      "metadata": {
        "id": "jnYYD3tnnago"
      },
      "source": [
        "#### **İş Uygulaması: Bahşiş ile Ödenen Hesap Arasındaki İlişkinin İncelenmesi**"
      ]
    },
    {
      "cell_type": "markdown",
      "metadata": {
        "id": "LvTyv5nGnago"
      },
      "source": [
        "**Bahşiş veri seti:**\n",
        "\n",
        "**total_bill:** yemeğin toplam fiyatı (bahşiş ve vergi dahil)\n",
        "\n",
        "**tip:** bahşiş\n",
        "\n",
        "**sex:** ücreti ödeyen kişinin cinsiyeti (0=male, 1=female)\n",
        "\n",
        "**smoker:** grupta sigara içen var mı? (0=No, 1=Yes)\n",
        "\n",
        "**day:** gün (3=Thur, 4=Fri, 5=Sat, 6=Sun)\n",
        "\n",
        "**time:** ne zaman? (0=Day, 1=Night)\n",
        "\n",
        "**size:** grupta kaç kişi var?"
      ]
    },
    {
      "cell_type": "code",
      "execution_count": 116,
      "metadata": {
        "colab": {
          "base_uri": "https://localhost:8080/",
          "height": 206
        },
        "id": "jcqFmJD4nago",
        "outputId": "4fe1fb5f-5483-40f3-e02a-286648c3e46d"
      },
      "outputs": [
        {
          "output_type": "execute_result",
          "data": {
            "text/plain": [
              "   total_bill   tip     sex smoker  day    time  size\n",
              "0       16.99  1.01  Female     No  Sun  Dinner     2\n",
              "1       10.34  1.66    Male     No  Sun  Dinner     3\n",
              "2       21.01  3.50    Male     No  Sun  Dinner     3\n",
              "3       23.68  3.31    Male     No  Sun  Dinner     2\n",
              "4       24.59  3.61  Female     No  Sun  Dinner     4"
            ],
            "text/html": [
              "\n",
              "  <div id=\"df-e2e05205-2561-46fc-b195-1ef144cf27e5\">\n",
              "    <div class=\"colab-df-container\">\n",
              "      <div>\n",
              "<style scoped>\n",
              "    .dataframe tbody tr th:only-of-type {\n",
              "        vertical-align: middle;\n",
              "    }\n",
              "\n",
              "    .dataframe tbody tr th {\n",
              "        vertical-align: top;\n",
              "    }\n",
              "\n",
              "    .dataframe thead th {\n",
              "        text-align: right;\n",
              "    }\n",
              "</style>\n",
              "<table border=\"1\" class=\"dataframe\">\n",
              "  <thead>\n",
              "    <tr style=\"text-align: right;\">\n",
              "      <th></th>\n",
              "      <th>total_bill</th>\n",
              "      <th>tip</th>\n",
              "      <th>sex</th>\n",
              "      <th>smoker</th>\n",
              "      <th>day</th>\n",
              "      <th>time</th>\n",
              "      <th>size</th>\n",
              "    </tr>\n",
              "  </thead>\n",
              "  <tbody>\n",
              "    <tr>\n",
              "      <th>0</th>\n",
              "      <td>16.99</td>\n",
              "      <td>1.01</td>\n",
              "      <td>Female</td>\n",
              "      <td>No</td>\n",
              "      <td>Sun</td>\n",
              "      <td>Dinner</td>\n",
              "      <td>2</td>\n",
              "    </tr>\n",
              "    <tr>\n",
              "      <th>1</th>\n",
              "      <td>10.34</td>\n",
              "      <td>1.66</td>\n",
              "      <td>Male</td>\n",
              "      <td>No</td>\n",
              "      <td>Sun</td>\n",
              "      <td>Dinner</td>\n",
              "      <td>3</td>\n",
              "    </tr>\n",
              "    <tr>\n",
              "      <th>2</th>\n",
              "      <td>21.01</td>\n",
              "      <td>3.50</td>\n",
              "      <td>Male</td>\n",
              "      <td>No</td>\n",
              "      <td>Sun</td>\n",
              "      <td>Dinner</td>\n",
              "      <td>3</td>\n",
              "    </tr>\n",
              "    <tr>\n",
              "      <th>3</th>\n",
              "      <td>23.68</td>\n",
              "      <td>3.31</td>\n",
              "      <td>Male</td>\n",
              "      <td>No</td>\n",
              "      <td>Sun</td>\n",
              "      <td>Dinner</td>\n",
              "      <td>2</td>\n",
              "    </tr>\n",
              "    <tr>\n",
              "      <th>4</th>\n",
              "      <td>24.59</td>\n",
              "      <td>3.61</td>\n",
              "      <td>Female</td>\n",
              "      <td>No</td>\n",
              "      <td>Sun</td>\n",
              "      <td>Dinner</td>\n",
              "      <td>4</td>\n",
              "    </tr>\n",
              "  </tbody>\n",
              "</table>\n",
              "</div>\n",
              "      <button class=\"colab-df-convert\" onclick=\"convertToInteractive('df-e2e05205-2561-46fc-b195-1ef144cf27e5')\"\n",
              "              title=\"Convert this dataframe to an interactive table.\"\n",
              "              style=\"display:none;\">\n",
              "        \n",
              "  <svg xmlns=\"http://www.w3.org/2000/svg\" height=\"24px\"viewBox=\"0 0 24 24\"\n",
              "       width=\"24px\">\n",
              "    <path d=\"M0 0h24v24H0V0z\" fill=\"none\"/>\n",
              "    <path d=\"M18.56 5.44l.94 2.06.94-2.06 2.06-.94-2.06-.94-.94-2.06-.94 2.06-2.06.94zm-11 1L8.5 8.5l.94-2.06 2.06-.94-2.06-.94L8.5 2.5l-.94 2.06-2.06.94zm10 10l.94 2.06.94-2.06 2.06-.94-2.06-.94-.94-2.06-.94 2.06-2.06.94z\"/><path d=\"M17.41 7.96l-1.37-1.37c-.4-.4-.92-.59-1.43-.59-.52 0-1.04.2-1.43.59L10.3 9.45l-7.72 7.72c-.78.78-.78 2.05 0 2.83L4 21.41c.39.39.9.59 1.41.59.51 0 1.02-.2 1.41-.59l7.78-7.78 2.81-2.81c.8-.78.8-2.07 0-2.86zM5.41 20L4 18.59l7.72-7.72 1.47 1.35L5.41 20z\"/>\n",
              "  </svg>\n",
              "      </button>\n",
              "      \n",
              "  <style>\n",
              "    .colab-df-container {\n",
              "      display:flex;\n",
              "      flex-wrap:wrap;\n",
              "      gap: 12px;\n",
              "    }\n",
              "\n",
              "    .colab-df-convert {\n",
              "      background-color: #E8F0FE;\n",
              "      border: none;\n",
              "      border-radius: 50%;\n",
              "      cursor: pointer;\n",
              "      display: none;\n",
              "      fill: #1967D2;\n",
              "      height: 32px;\n",
              "      padding: 0 0 0 0;\n",
              "      width: 32px;\n",
              "    }\n",
              "\n",
              "    .colab-df-convert:hover {\n",
              "      background-color: #E2EBFA;\n",
              "      box-shadow: 0px 1px 2px rgba(60, 64, 67, 0.3), 0px 1px 3px 1px rgba(60, 64, 67, 0.15);\n",
              "      fill: #174EA6;\n",
              "    }\n",
              "\n",
              "    [theme=dark] .colab-df-convert {\n",
              "      background-color: #3B4455;\n",
              "      fill: #D2E3FC;\n",
              "    }\n",
              "\n",
              "    [theme=dark] .colab-df-convert:hover {\n",
              "      background-color: #434B5C;\n",
              "      box-shadow: 0px 1px 3px 1px rgba(0, 0, 0, 0.15);\n",
              "      filter: drop-shadow(0px 1px 2px rgba(0, 0, 0, 0.3));\n",
              "      fill: #FFFFFF;\n",
              "    }\n",
              "  </style>\n",
              "\n",
              "      <script>\n",
              "        const buttonEl =\n",
              "          document.querySelector('#df-e2e05205-2561-46fc-b195-1ef144cf27e5 button.colab-df-convert');\n",
              "        buttonEl.style.display =\n",
              "          google.colab.kernel.accessAllowed ? 'block' : 'none';\n",
              "\n",
              "        async function convertToInteractive(key) {\n",
              "          const element = document.querySelector('#df-e2e05205-2561-46fc-b195-1ef144cf27e5');\n",
              "          const dataTable =\n",
              "            await google.colab.kernel.invokeFunction('convertToInteractive',\n",
              "                                                     [key], {});\n",
              "          if (!dataTable) return;\n",
              "\n",
              "          const docLinkHtml = 'Like what you see? Visit the ' +\n",
              "            '<a target=\"_blank\" href=https://colab.research.google.com/notebooks/data_table.ipynb>data table notebook</a>'\n",
              "            + ' to learn more about interactive tables.';\n",
              "          element.innerHTML = '';\n",
              "          dataTable['output_type'] = 'display_data';\n",
              "          await google.colab.output.renderOutput(dataTable, element);\n",
              "          const docLink = document.createElement('div');\n",
              "          docLink.innerHTML = docLinkHtml;\n",
              "          element.appendChild(docLink);\n",
              "        }\n",
              "      </script>\n",
              "    </div>\n",
              "  </div>\n",
              "  "
            ]
          },
          "metadata": {},
          "execution_count": 116
        }
      ],
      "source": [
        "import seaborn as sns\n",
        "tips = sns.load_dataset('tips')\n",
        "df = tips.copy()\n",
        "df.head()"
      ]
    },
    {
      "cell_type": "code",
      "execution_count": 117,
      "metadata": {
        "id": "aGH7VvRJnago"
      },
      "outputs": [],
      "source": [
        "df[\"total_bill\"] = df[\"total_bill\"] - df[\"tip\"]"
      ]
    },
    {
      "cell_type": "code",
      "execution_count": 118,
      "metadata": {
        "colab": {
          "base_uri": "https://localhost:8080/",
          "height": 206
        },
        "id": "_WVNBww_nago",
        "outputId": "819f56c6-afbc-41c0-8eee-7b069d3be43e"
      },
      "outputs": [
        {
          "output_type": "execute_result",
          "data": {
            "text/plain": [
              "   total_bill   tip     sex smoker  day    time  size\n",
              "0       15.98  1.01  Female     No  Sun  Dinner     2\n",
              "1        8.68  1.66    Male     No  Sun  Dinner     3\n",
              "2       17.51  3.50    Male     No  Sun  Dinner     3\n",
              "3       20.37  3.31    Male     No  Sun  Dinner     2\n",
              "4       20.98  3.61  Female     No  Sun  Dinner     4"
            ],
            "text/html": [
              "\n",
              "  <div id=\"df-4f727665-6c47-4b96-99f1-3511973ab059\">\n",
              "    <div class=\"colab-df-container\">\n",
              "      <div>\n",
              "<style scoped>\n",
              "    .dataframe tbody tr th:only-of-type {\n",
              "        vertical-align: middle;\n",
              "    }\n",
              "\n",
              "    .dataframe tbody tr th {\n",
              "        vertical-align: top;\n",
              "    }\n",
              "\n",
              "    .dataframe thead th {\n",
              "        text-align: right;\n",
              "    }\n",
              "</style>\n",
              "<table border=\"1\" class=\"dataframe\">\n",
              "  <thead>\n",
              "    <tr style=\"text-align: right;\">\n",
              "      <th></th>\n",
              "      <th>total_bill</th>\n",
              "      <th>tip</th>\n",
              "      <th>sex</th>\n",
              "      <th>smoker</th>\n",
              "      <th>day</th>\n",
              "      <th>time</th>\n",
              "      <th>size</th>\n",
              "    </tr>\n",
              "  </thead>\n",
              "  <tbody>\n",
              "    <tr>\n",
              "      <th>0</th>\n",
              "      <td>15.98</td>\n",
              "      <td>1.01</td>\n",
              "      <td>Female</td>\n",
              "      <td>No</td>\n",
              "      <td>Sun</td>\n",
              "      <td>Dinner</td>\n",
              "      <td>2</td>\n",
              "    </tr>\n",
              "    <tr>\n",
              "      <th>1</th>\n",
              "      <td>8.68</td>\n",
              "      <td>1.66</td>\n",
              "      <td>Male</td>\n",
              "      <td>No</td>\n",
              "      <td>Sun</td>\n",
              "      <td>Dinner</td>\n",
              "      <td>3</td>\n",
              "    </tr>\n",
              "    <tr>\n",
              "      <th>2</th>\n",
              "      <td>17.51</td>\n",
              "      <td>3.50</td>\n",
              "      <td>Male</td>\n",
              "      <td>No</td>\n",
              "      <td>Sun</td>\n",
              "      <td>Dinner</td>\n",
              "      <td>3</td>\n",
              "    </tr>\n",
              "    <tr>\n",
              "      <th>3</th>\n",
              "      <td>20.37</td>\n",
              "      <td>3.31</td>\n",
              "      <td>Male</td>\n",
              "      <td>No</td>\n",
              "      <td>Sun</td>\n",
              "      <td>Dinner</td>\n",
              "      <td>2</td>\n",
              "    </tr>\n",
              "    <tr>\n",
              "      <th>4</th>\n",
              "      <td>20.98</td>\n",
              "      <td>3.61</td>\n",
              "      <td>Female</td>\n",
              "      <td>No</td>\n",
              "      <td>Sun</td>\n",
              "      <td>Dinner</td>\n",
              "      <td>4</td>\n",
              "    </tr>\n",
              "  </tbody>\n",
              "</table>\n",
              "</div>\n",
              "      <button class=\"colab-df-convert\" onclick=\"convertToInteractive('df-4f727665-6c47-4b96-99f1-3511973ab059')\"\n",
              "              title=\"Convert this dataframe to an interactive table.\"\n",
              "              style=\"display:none;\">\n",
              "        \n",
              "  <svg xmlns=\"http://www.w3.org/2000/svg\" height=\"24px\"viewBox=\"0 0 24 24\"\n",
              "       width=\"24px\">\n",
              "    <path d=\"M0 0h24v24H0V0z\" fill=\"none\"/>\n",
              "    <path d=\"M18.56 5.44l.94 2.06.94-2.06 2.06-.94-2.06-.94-.94-2.06-.94 2.06-2.06.94zm-11 1L8.5 8.5l.94-2.06 2.06-.94-2.06-.94L8.5 2.5l-.94 2.06-2.06.94zm10 10l.94 2.06.94-2.06 2.06-.94-2.06-.94-.94-2.06-.94 2.06-2.06.94z\"/><path d=\"M17.41 7.96l-1.37-1.37c-.4-.4-.92-.59-1.43-.59-.52 0-1.04.2-1.43.59L10.3 9.45l-7.72 7.72c-.78.78-.78 2.05 0 2.83L4 21.41c.39.39.9.59 1.41.59.51 0 1.02-.2 1.41-.59l7.78-7.78 2.81-2.81c.8-.78.8-2.07 0-2.86zM5.41 20L4 18.59l7.72-7.72 1.47 1.35L5.41 20z\"/>\n",
              "  </svg>\n",
              "      </button>\n",
              "      \n",
              "  <style>\n",
              "    .colab-df-container {\n",
              "      display:flex;\n",
              "      flex-wrap:wrap;\n",
              "      gap: 12px;\n",
              "    }\n",
              "\n",
              "    .colab-df-convert {\n",
              "      background-color: #E8F0FE;\n",
              "      border: none;\n",
              "      border-radius: 50%;\n",
              "      cursor: pointer;\n",
              "      display: none;\n",
              "      fill: #1967D2;\n",
              "      height: 32px;\n",
              "      padding: 0 0 0 0;\n",
              "      width: 32px;\n",
              "    }\n",
              "\n",
              "    .colab-df-convert:hover {\n",
              "      background-color: #E2EBFA;\n",
              "      box-shadow: 0px 1px 2px rgba(60, 64, 67, 0.3), 0px 1px 3px 1px rgba(60, 64, 67, 0.15);\n",
              "      fill: #174EA6;\n",
              "    }\n",
              "\n",
              "    [theme=dark] .colab-df-convert {\n",
              "      background-color: #3B4455;\n",
              "      fill: #D2E3FC;\n",
              "    }\n",
              "\n",
              "    [theme=dark] .colab-df-convert:hover {\n",
              "      background-color: #434B5C;\n",
              "      box-shadow: 0px 1px 3px 1px rgba(0, 0, 0, 0.15);\n",
              "      filter: drop-shadow(0px 1px 2px rgba(0, 0, 0, 0.3));\n",
              "      fill: #FFFFFF;\n",
              "    }\n",
              "  </style>\n",
              "\n",
              "      <script>\n",
              "        const buttonEl =\n",
              "          document.querySelector('#df-4f727665-6c47-4b96-99f1-3511973ab059 button.colab-df-convert');\n",
              "        buttonEl.style.display =\n",
              "          google.colab.kernel.accessAllowed ? 'block' : 'none';\n",
              "\n",
              "        async function convertToInteractive(key) {\n",
              "          const element = document.querySelector('#df-4f727665-6c47-4b96-99f1-3511973ab059');\n",
              "          const dataTable =\n",
              "            await google.colab.kernel.invokeFunction('convertToInteractive',\n",
              "                                                     [key], {});\n",
              "          if (!dataTable) return;\n",
              "\n",
              "          const docLinkHtml = 'Like what you see? Visit the ' +\n",
              "            '<a target=\"_blank\" href=https://colab.research.google.com/notebooks/data_table.ipynb>data table notebook</a>'\n",
              "            + ' to learn more about interactive tables.';\n",
              "          element.innerHTML = '';\n",
              "          dataTable['output_type'] = 'display_data';\n",
              "          await google.colab.output.renderOutput(dataTable, element);\n",
              "          const docLink = document.createElement('div');\n",
              "          docLink.innerHTML = docLinkHtml;\n",
              "          element.appendChild(docLink);\n",
              "        }\n",
              "      </script>\n",
              "    </div>\n",
              "  </div>\n",
              "  "
            ]
          },
          "metadata": {},
          "execution_count": 118
        }
      ],
      "source": [
        "df.head()"
      ]
    },
    {
      "cell_type": "code",
      "execution_count": 119,
      "metadata": {
        "colab": {
          "base_uri": "https://localhost:8080/",
          "height": 279
        },
        "id": "sURw0myinagp",
        "outputId": "ee43633a-ec4a-4160-c68f-89cd95ec2bd8"
      },
      "outputs": [
        {
          "output_type": "display_data",
          "data": {
            "text/plain": [
              "<Figure size 432x288 with 1 Axes>"
            ],
            "image/png": "[encoded data removed]"
          },
          "metadata": {
            "needs_background": "light"
          }
        }
      ],
      "source": [
        "df.plot.scatter(\"tip\",\"total_bill\");"
      ]
    },
    {
      "cell_type": "markdown",
      "metadata": {
        "id": "EK6bsgomnagp"
      },
      "source": [
        "# Varsayım Kontrolü"
      ]
    },
    {
      "cell_type": "code",
      "execution_count": 120,
      "metadata": {
        "id": "FV_zz9aJnagp"
      },
      "outputs": [],
      "source": [
        "from scipy.stats import shapiro"
      ]
    },
    {
      "cell_type": "code",
      "execution_count": 121,
      "metadata": {
        "colab": {
          "base_uri": "https://localhost:8080/"
        },
        "id": "J5a60BDenagp",
        "outputId": "c5c56fc7-aac0-4133-91cc-cdce1be0de60"
      },
      "outputs": [
        {
          "output_type": "stream",
          "name": "stdout",
          "text": [
            "Test İstatistiği = 0.8978, p-değeri = 0.0000\n",
            "Test İstatistiği = 0.9136, p-değeri = 0.0000\n"
          ]
        }
      ],
      "source": [
        "test_istatistigi, pvalue = shapiro(df[\"tip\"])\n",
        "print('Test İstatistiği = %.4f, p-değeri = %.4f' % (test_istatistigi, pvalue))\n",
        "\n",
        "test_istatistigi, pvalue = shapiro(df[\"total_bill\"])\n",
        "print('Test İstatistiği = %.4f, p-değeri = %.4f' % (test_istatistigi, pvalue))"
      ]
    },
    {
      "cell_type": "markdown",
      "metadata": {
        "id": "n2QNQEv-nagp"
      },
      "source": [
        "# Hipotez Testi"
      ]
    },
    {
      "cell_type": "markdown",
      "metadata": {
        "id": "wv2hhFURnagp"
      },
      "source": [
        "### Korelasyon Katsayısı"
      ]
    },
    {
      "cell_type": "code",
      "execution_count": 122,
      "metadata": {
        "colab": {
          "base_uri": "https://localhost:8080/"
        },
        "id": "S5tXsxmPnagp",
        "outputId": "1c6a7c85-766e-47d3-9615-b8b364a3c354"
      },
      "outputs": [
        {
          "output_type": "execute_result",
          "data": {
            "text/plain": [
              "0.5766634471096374"
            ]
          },
          "metadata": {},
          "execution_count": 122
        }
      ],
      "source": [
        "df[\"tip\"].corr(df[\"total_bill\"])"
      ]
    },
    {
      "cell_type": "code",
      "execution_count": 123,
      "metadata": {
        "colab": {
          "base_uri": "https://localhost:8080/"
        },
        "id": "iFv0Z5Hynagp",
        "outputId": "1a6ba6f2-27fb-4c9a-fbed-350a7f541a2d"
      },
      "outputs": [
        {
          "output_type": "execute_result",
          "data": {
            "text/plain": [
              "0.593691939408997"
            ]
          },
          "metadata": {},
          "execution_count": 123
        }
      ],
      "source": [
        "df[\"tip\"].corr(df[\"total_bill\"], method = \"spearman\")"
      ]
    },
    {
      "cell_type": "markdown",
      "metadata": {
        "id": "ZMeCK_IMnagq"
      },
      "source": [
        "### Korelasyonun Anlamlılığının Testi"
      ]
    },
    {
      "cell_type": "code",
      "execution_count": 124,
      "metadata": {
        "id": "Klptxhstnagq"
      },
      "outputs": [],
      "source": [
        "from scipy.stats.stats import pearsonr"
      ]
    },
    {
      "cell_type": "code",
      "execution_count": 125,
      "metadata": {
        "colab": {
          "base_uri": "https://localhost:8080/"
        },
        "id": "AT8InWc6nagq",
        "outputId": "046b9d0b-3945-4b09-ba21-73ef7549f9d9"
      },
      "outputs": [
        {
          "output_type": "stream",
          "name": "stdout",
          "text": [
            "Korelasyon Katsayısı = 0.5767, p-değeri = 0.0000\n"
          ]
        }
      ],
      "source": [
        "test_istatistigi, pvalue = pearsonr(df[\"tip\"],df[\"total_bill\"])\n",
        "\n",
        "print('Korelasyon Katsayısı = %.4f, p-değeri = %.4f' % (test_istatistigi, pvalue))"
      ]
    },
    {
      "cell_type": "markdown",
      "metadata": {
        "id": "TKZe2zdnnagq"
      },
      "source": [
        "## Nonparametrik Hipotez Testi"
      ]
    },
    {
      "cell_type": "code",
      "execution_count": 126,
      "metadata": {
        "colab": {
          "base_uri": "https://localhost:8080/"
        },
        "id": "nDCxZdZunagq",
        "outputId": "818120ba-78a0-4139-ad3c-d884644ed0cf"
      },
      "outputs": [
        {
          "output_type": "execute_result",
          "data": {
            "text/plain": [
              "SpearmanrResult(correlation=0.593691939408997, pvalue=1.2452285137560276e-24)"
            ]
          },
          "metadata": {},
          "execution_count": 126
        }
      ],
      "source": [
        "from scipy.stats import stats\n",
        "stats.spearmanr(df[\"tip\"],df[\"total_bill\"])"
      ]
    },
    {
      "cell_type": "code",
      "execution_count": 127,
      "metadata": {
        "colab": {
          "base_uri": "https://localhost:8080/"
        },
        "id": "kmR6-FPPnagr",
        "outputId": "c487675d-8891-4f5a-cfa2-9153f7aaf3ee"
      },
      "outputs": [
        {
          "output_type": "stream",
          "name": "stdout",
          "text": [
            "Korelasyon Katsayısı = 0.5937, p-değeri = 0.0000\n"
          ]
        }
      ],
      "source": [
        "test_istatistigi, pvalue = stats.spearmanr(df[\"tip\"],df[\"total_bill\"])\n",
        "\n",
        "print('Korelasyon Katsayısı = %.4f, p-değeri = %.4f' % (test_istatistigi, pvalue))"
      ]
    },
    {
      "cell_type": "code",
      "execution_count": 128,
      "metadata": {
        "colab": {
          "base_uri": "https://localhost:8080/"
        },
        "id": "tRz2eTnanagr",
        "outputId": "57f41c02-bd12-4e62-af8f-d912fd262a22"
      },
      "outputs": [
        {
          "output_type": "stream",
          "name": "stdout",
          "text": [
            "Korelasyon Katsayısı = 0.4401, p-değeri = 0.0000\n"
          ]
        }
      ],
      "source": [
        "test_istatistigi, pvalue = stats.kendalltau(df[\"tip\"],df[\"total_bill\"])\n",
        "\n",
        "print('Korelasyon Katsayısı = %.4f, p-değeri = %.4f' % (test_istatistigi, pvalue))"
      ]
    },
    {
      "cell_type": "code",
      "execution_count": 128,
      "metadata": {
        "id": "NoJt7SIVnagr"
      },
      "outputs": [],
      "source": [
        ""
      ]
    }
  ],
  "metadata": {
    "colab": {
      "name": "Statistic.ipynb",
      "provenance": [],
      "collapsed_sections": []
    },
    "kernelspec": {
      "display_name": "Python 3",
      "language": "python",
      "name": "python3"
    },
    "language_info": {
      "codemirror_mode": {
        "name": "ipython",
        "version": 3
      },
      "file_extension": ".py",
      "mimetype": "text/x-python",
      "name": "python",
      "nbconvert_exporter": "python",
      "pygments_lexer": "ipython3",
      "version": "3.7.3"
    }
  },
  "nbformat": 4,
  "nbformat_minor": 0
}